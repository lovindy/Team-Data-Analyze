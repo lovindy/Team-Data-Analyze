{
 "cells": [
  {
   "cell_type": "markdown",
   "metadata": {},
   "source": [
    "<h3 style=\"color: #83B4FF\">1. Basics of Pandas Series for the Data process</h3>"
   ]
  },
  {
   "cell_type": "code",
   "execution_count": 8,
   "metadata": {},
   "outputs": [
    {
     "name": "stdout",
     "output_type": "stream",
     "text": [
      "From a list :\n",
      "0    1\n",
      "1    2\n",
      "2    3\n",
      "3    4\n",
      "4    5\n",
      "dtype: int64\n",
      "From a dictionary :\n",
      "a    1\n",
      "b    2\n",
      "c    3\n",
      "dtype: int64\n",
      "From a scalar value :\n",
      "a    10\n",
      "b    10\n",
      "c    10\n",
      "dtype: int64\n"
     ]
    }
   ],
   "source": [
    "import pandas as pd \n",
    "\n",
    "print(\"From a list :\")\n",
    "data = [1, 2, 3, 4, 5]\n",
    "series = pd.Series(data)\n",
    "print(series)\n",
    "\n",
    "print(\"From a dictionary :\")\n",
    "data2 = {'a': 1, 'b': 2, 'c': 3}\n",
    "series2 = pd.Series(data2)\n",
    "print(series2)\n",
    "\n",
    "print(\"From a scalar value :\")\n",
    "series = pd.Series(10, index=['a', 'b', 'c'])\n",
    "print(series)\n"
   ]
  },
  {
   "cell_type": "markdown",
   "metadata": {},
   "source": [
    "<h3>Population Density</h3>"
   ]
  },
  {
   "cell_type": "code",
   "execution_count": 9,
   "metadata": {},
   "outputs": [],
   "source": [
    "population_2020 = {\n",
    "    'Tokyo': 37435191,\n",
    "    'Delhi': 29399141,\n",
    "    'Shanghai': 26317104,\n",
    "    'São Paulo': 21846507,\n",
    "    'Mumbai': 20667656,\n",
    "    'Cairo': 20484965,\n",
    "    'Beijing': 20035455,\n",
    "    'Dhaka': 20004858,\n",
    "    'Mexico City': 21671908,\n",
    "    'Osaka': 19222665\n",
    "}\n",
    "\n",
    "population_2021 = {\n",
    "    'Tokyo': 37393128,\n",
    "    'Delhi': 30762738,\n",
    "    'Shanghai': 27058479,\n",
    "    'São Paulo': 22043028,\n",
    "    'Mumbai': 21466506,\n",
    "    'Cairo': 21037180,\n",
    "    'Beijing': 20462666,\n",
    "    'Dhaka': 21104539,\n",
    "    'Mexico City': 21804568,\n",
    "    'Osaka': 19241178\n",
    "}\n",
    "\n",
    "city_area = {\n",
    "    'Tokyo': 2194,\n",
    "    'Delhi': 1484,\n",
    "    'Shanghai': 6340,\n",
    "    'São Paulo': 1521,\n",
    "    'Mumbai': 603,\n",
    "    'Cairo': 606,\n",
    "    'Beijing': 16411,\n",
    "    'Dhaka': 306,\n",
    "    'Mexico City': 1485,\n",
    "    'Osaka': 223\n",
    "}\n",
    "\n"
   ]
  },
  {
   "cell_type": "markdown",
   "metadata": {},
   "source": [
    "<h2>Creating a Series from list and dictionary</h2>"
   ]
  },
  {
   "cell_type": "code",
   "execution_count": 12,
   "metadata": {},
   "outputs": [
    {
     "name": "stdout",
     "output_type": "stream",
     "text": [
      "From list :\n",
      "0           Iron Man\n",
      "1    Captain America\n",
      "2     Winter Soldier\n",
      "3               Thor\n",
      "4             Ultron\n",
      "5            Ant-Man\n",
      "6         Spider-Man\n",
      "dtype: object\n",
      "From dictionary :\n",
      "Iron Man           2010\n",
      "Captain America    2011\n",
      "Winter Soldier     2012\n",
      "Thor               2013\n",
      "Ultron             2014\n",
      "Ant-Man            2015\n",
      "Spider-Man         2016\n",
      "dtype: int64\n"
     ]
    }
   ],
   "source": [
    "import pandas as pd\n",
    "\n",
    "marvel = ['Iron Man', 'Captain America', 'Winter Soldier', 'Thor', 'Ultron', 'Ant-Man', 'Spider-Man']\n",
    "\n",
    "serie_list = pd.Series(marvel)\n",
    "print(\"From list :\")\n",
    "print(serie_list)\n",
    "\n",
    "marvel_year = {'Iron Man' : 2010, 'Captain America' : 2011, 'Winter Soldier' : 2012, 'Thor' : 2013, 'Ultron' : 2014, 'Ant-Man' : 2015, 'Spider-Man' : 2016}\n",
    "serie_dict = pd.Series(marvel_year)\n",
    "print(\"From dictionary :\")\n",
    "print(serie_dict)\n"
   ]
  },
  {
   "cell_type": "markdown",
   "metadata": {},
   "source": []
  },
  {
   "cell_type": "markdown",
   "metadata": {},
   "source": [
    "<h2>Numpy</h2>"
   ]
  },
  {
   "cell_type": "code",
   "execution_count": 13,
   "metadata": {},
   "outputs": [
    {
     "name": "stdout",
     "output_type": "stream",
     "text": [
      "0    10\n",
      "1    11\n",
      "2    12\n",
      "3    13\n",
      "4    14\n",
      "5    15\n",
      "dtype: int64\n"
     ]
    }
   ],
   "source": [
    "import numpy as np\n",
    "# Stand for numeric python\n",
    "n = np.arange(10, 16) # arange between 10 to 16\n",
    "s = pd.Series(n)\n",
    "print(s)"
   ]
  },
  {
   "cell_type": "code",
   "execution_count": 14,
   "metadata": {},
   "outputs": [
    {
     "name": "stdout",
     "output_type": "stream",
     "text": [
      "0    0.548814\n",
      "1    0.715189\n",
      "2    0.602763\n",
      "3    0.544883\n",
      "4    0.423655\n",
      "5    0.645894\n",
      "dtype: float64\n"
     ]
    }
   ],
   "source": [
    "# Random Seed\n",
    "np.random.seed(0)\n",
    "r = np.random.random(size = 6)\n",
    "s = pd.Series(r)\n",
    "print(s)"
   ]
  },
  {
   "cell_type": "code",
   "execution_count": 22,
   "metadata": {},
   "outputs": [
    {
     "name": "stdout",
     "output_type": "stream",
     "text": [
      "0    4\n",
      "dtype: int64\n",
      "q      1\n",
      "1      2\n",
      "a      3\n",
      "cat    4\n",
      "dtype: int64\n",
      "q      1\n",
      "1      2\n",
      "a      3\n",
      "cat    4\n",
      "dtype: int64\n"
     ]
    }
   ],
   "source": [
    "# Creating using values\n",
    "s = pd.Series(4)\n",
    "print(s)\n",
    "\n",
    "# You can define the index\n",
    "s1 = pd.Series([1, 2, 3, 4], index=['q', 1, 'a', 'cat'])\n",
    "s2 = pd.Series({'q': 1, '1': 2, 'a': 3, 'cat': 4})\n",
    "print(s1)\n",
    "print(s2)"
   ]
  },
  {
   "cell_type": "code",
   "execution_count": 30,
   "metadata": {},
   "outputs": [
    {
     "name": "stdout",
     "output_type": "stream",
     "text": [
      "           0\n",
      "0 2024-01-01\n",
      "1 2024-01-02\n",
      "2 2024-01-03\n",
      "3 2024-01-04\n",
      "4 2024-01-05\n",
      "5 2024-01-06\n",
      "6 2024-01-07\n"
     ]
    }
   ],
   "source": [
    "dates = pd.date_range('2024-01-01', '2024-01-07')\n",
    "s = pd.DataFrame(dates)\n",
    "print(s)"
   ]
  },
  {
   "cell_type": "code",
   "execution_count": 31,
   "metadata": {},
   "outputs": [
    {
     "name": "stdout",
     "output_type": "stream",
     "text": [
      "2024-01-01           Iron Man\n",
      "2024-01-02    Captain America\n",
      "2024-01-03     Winter Soldier\n",
      "2024-01-04               Thor\n",
      "2024-01-05             Ultron\n",
      "2024-01-06            Ant-Man\n",
      "2024-01-07         Spider-Man\n",
      "Freq: D, dtype: object\n"
     ]
    }
   ],
   "source": [
    "marvel = ['Iron Man', 'Captain America', 'Winter Soldier', 'Thor', 'Ultron', 'Ant-Man', 'Spider-Man']\n",
    "\n",
    "new_s = pd.Series(marvel, index=dates)\n",
    "print(new_s)"
   ]
  },
  {
   "cell_type": "markdown",
   "metadata": {},
   "source": [
    "<h2>Selecting Specific Data (Elements) from a Series</h2>\n",
    "<li>Each index in the Series object corresponds to a specific data in a one-to-one relationship.</li>\n",
    "<p>👉 Think of this index as a unique address for each data, which can be used to explore, sort, select, and so on.</p>"
   ]
  },
  {
   "cell_type": "code",
   "execution_count": 50,
   "metadata": {},
   "outputs": [
    {
     "name": "stdout",
     "output_type": "stream",
     "text": [
      "Get single value:\n",
      " element1\n",
      "Get multiple values:\n",
      " ['element3', 'element4', 'element5']\n",
      "Get first 5 elements:\n",
      " a    element1\n",
      "b    element2\n",
      "c    element3\n",
      "d    element4\n",
      "e    element5\n",
      "dtype: object\n",
      "Get last 5 elements:\n",
      " a    element1\n",
      "b    element2\n",
      "c    element3\n",
      "d    element4\n",
      "e    element5\n",
      "dtype: object\n"
     ]
    },
    {
     "data": {
      "text/plain": [
       "RangeIndex(start=0, stop=5, step=1)"
      ]
     },
     "execution_count": 50,
     "metadata": {},
     "output_type": "execute_result"
    }
   ],
   "source": [
    "import pandas as pd\n",
    "\n",
    "# Sample data\n",
    "s = ['element1', 'element2', 'element3', 'element4', 'element5']\n",
    "serie = pd.Series(s, index=['a', 'b', 'c', 'd', 'e'])\n",
    "# Print single value\n",
    "print(\"Get single value:\\n\", serie['a'])\n",
    "\n",
    "# Print multiple values as a list\n",
    "print(\"Get multiple values:\\n\", serie[['c', 'd', 'e']].tolist())\n",
    "\n",
    "# Print first 5 elements\n",
    "print(\"Get first 5 elements:\\n\", serie.head())\n",
    "\n",
    "# Print last 5 elements\n",
    "print(\"Get last 5 elements:\\n\", serie.tail())\n"
   ]
  },
  {
   "cell_type": "code",
   "execution_count": 56,
   "metadata": {},
   "outputs": [
    {
     "name": "stdout",
     "output_type": "stream",
     "text": [
      "0    element1\n",
      "1    element2\n",
      "2    element3\n",
      "3    element4\n",
      "4    element5\n",
      "dtype: object\n",
      "element3\n",
      "3    element4\n",
      "4    element5\n",
      "dtype: object\n"
     ]
    }
   ],
   "source": [
    "series_index = pd.Series(s)\n",
    "\n",
    "print(series_index)\n",
    "print(series_index[2])\n",
    "print(series_index[[3, 4]])"
   ]
  },
  {
   "cell_type": "markdown",
   "metadata": {},
   "source": [
    "<h2>Basic Arithmetic Operations on Series Objects </h2>\n",
    "<li>Arithmetic operations on two or more Series obj are based on the index. If both elements and index not match, the result will be NaN.</li>"
   ]
  },
  {
   "cell_type": "code",
   "execution_count": 60,
   "metadata": {},
   "outputs": [
    {
     "name": "stdout",
     "output_type": "stream",
     "text": [
      "0     33.0\n",
      "1    165.0\n",
      "2    584.0\n",
      "3      NaN\n",
      "4      NaN\n",
      "5      NaN\n",
      "6      NaN\n",
      "dtype: float64\n"
     ]
    }
   ],
   "source": [
    "import pandas as pd\n",
    "s = [10, 20, 30, 40, 50, 60, 70]\n",
    "t = [23, 145, 554]\n",
    "serie1 = pd.Series(s)\n",
    "serie2 = pd.Series(t)\n",
    "\n",
    "serie3 = serie1 + serie2\n",
    "print(serie3)"
   ]
  },
  {
   "cell_type": "markdown",
   "metadata": {},
   "source": [
    "<h2>Introduction to Matplotlib, a data visualization tool</h2>\n",
    "<p>Matplotlib is a comprehensive library for creating static, animated, and interactive visualizations in Python. </p>"
   ]
  },
  {
   "cell_type": "code",
   "execution_count": 61,
   "metadata": {},
   "outputs": [
    {
     "data": {
      "image/png": "[encoded data removed]",
      "text/plain": [
       "<Figure size 640x480 with 1 Axes>"
      ]
     },
     "metadata": {},
     "output_type": "display_data"
    }
   ],
   "source": [
    "import matplotlib.pyplot as plt\n",
    "plt.plot([1, 2, 3, 4])\n",
    "plt.show()"
   ]
  },
  {
   "cell_type": "markdown",
   "metadata": {},
   "source": []
  },
  {
   "cell_type": "code",
   "execution_count": 62,
   "metadata": {},
   "outputs": [
    {
     "data": {
      "image/png": "[encoded data removed]",
      "text/plain": [
       "<Figure size 640x480 with 1 Axes>"
      ]
     },
     "metadata": {},
     "output_type": "display_data"
    }
   ],
   "source": [
    "plt.plot([1, 2, 3, 4], [1, 4, 9, 16])\n",
    "plt.show()"
   ]
  },
  {
   "cell_type": "code",
   "execution_count": 74,
   "metadata": {},
   "outputs": [
    {
     "data": {
      "image/png": "[encoded data removed]",
      "text/plain": [
       "<Figure size 640x480 with 1 Axes>"
      ]
     },
     "metadata": {},
     "output_type": "display_data"
    }
   ],
   "source": [
    "x = range(100)\n",
    "y = [value ** 2 for value in  x]\n",
    "\n",
    "plt.plot(x, y, linewidth = 5.0, color='red' )\n",
    "plt.title(\"Hello world of chart\")\n",
    "plt.ylabel(\"y-some numbers\")\n",
    "plt.xlabel('x-some numbers')\n",
    "plt.show()"
   ]
  },
  {
   "cell_type": "code",
   "execution_count": null,
   "metadata": {},
   "outputs": [],
   "source": []
  }
 ],
 "metadata": {
  "kernelspec": {
   "display_name": "base",
   "language": "python",
   "name": "python3"
  },
  "language_info": {
   "codemirror_mode": {
    "name": "ipython",
    "version": 3
   },
   "file_extension": ".py",
   "mimetype": "text/x-python",
   "name": "python",
   "nbconvert_exporter": "python",
   "pygments_lexer": "ipython3",
   "version": "3.11.5"
  }
 },
 "nbformat": 4,
 "nbformat_minor": 2
}
