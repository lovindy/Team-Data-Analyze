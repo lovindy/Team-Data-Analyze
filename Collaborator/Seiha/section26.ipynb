{
 "cells": [
  {
   "cell_type": "markdown",
   "id": "60327251",
   "metadata": {},
   "source": [
    "<h1 style = \"color: white;\">Creating dates and times using the Python datetime class</h1>"
   ]
  },
  {
   "cell_type": "code",
   "execution_count": 11,
   "id": "d7beeaed",
   "metadata": {},
   "outputs": [],
   "source": [
    "import pandas as pd\n",
    "import numpy as np\n",
    "import datetime\n",
    "from datetime import date, datetime, time, timezone"
   ]
  },
  {
   "cell_type": "code",
   "execution_count": 12,
   "id": "afb7d9ba",
   "metadata": {},
   "outputs": [
    {
     "data": {
      "text/plain": [
       "datetime.datetime(2021, 7, 7, 0, 0)"
      ]
     },
     "execution_count": 12,
     "metadata": {},
     "output_type": "execute_result"
    }
   ],
   "source": [
    "# atleast 3 parametter (year, month day) \n",
    "datetime(2021, 7, 7)"
   ]
  },
  {
   "cell_type": "code",
   "execution_count": 13,
   "id": "7e9f6e38",
   "metadata": {},
   "outputs": [
    {
     "data": {
      "text/plain": [
       "datetime.datetime(2021, 7, 7, 15, 50)"
      ]
     },
     "execution_count": 13,
     "metadata": {},
     "output_type": "execute_result"
    }
   ],
   "source": [
    "# refer (year, month, day, hour, minute)\n",
    "datetime(2021, 7, 7, 15, 50)"
   ]
  },
  {
   "cell_type": "code",
   "execution_count": 14,
   "id": "c1a9a4fb",
   "metadata": {},
   "outputs": [
    {
     "data": {
      "text/plain": [
       "datetime.datetime(2021, 7, 7, 13, 26, 10)"
      ]
     },
     "execution_count": 14,
     "metadata": {},
     "output_type": "execute_result"
    }
   ],
   "source": [
    "# comebine : createa datetime object using existing 'date' or 'time' objects\n",
    "d = date(2021, 7, 7)\n",
    "t = time(13, 26, 10)\n",
    "datetime.combine(d, t)"
   ]
  },
  {
   "cell_type": "code",
   "execution_count": 15,
   "id": "44287111",
   "metadata": {},
   "outputs": [
    {
     "data": {
      "text/plain": [
       "datetime.datetime(2024, 6, 27, 2, 45, 51, 458496, tzinfo=datetime.timezone.utc)"
      ]
     },
     "execution_count": 15,
     "metadata": {},
     "output_type": "execute_result"
    }
   ],
   "source": [
    "# current date and time with the local time zone\n",
    "datetime.now(timezone.utc)"
   ]
  },
  {
   "cell_type": "code",
   "execution_count": 16,
   "id": "bfdabe74",
   "metadata": {},
   "outputs": [
    {
     "data": {
      "text/plain": [
       "datetime.date(2024, 6, 27)"
      ]
     },
     "execution_count": 16,
     "metadata": {},
     "output_type": "execute_result"
    }
   ],
   "source": [
    "# determine the current date and time, \"return only the date\"\n",
    "datetime.now().date()"
   ]
  },
  {
   "cell_type": "code",
   "execution_count": 17,
   "id": "b5c60ac1",
   "metadata": {},
   "outputs": [
    {
     "data": {
      "text/plain": [
       "datetime.time(9, 45, 52, 108246)"
      ]
     },
     "execution_count": 17,
     "metadata": {},
     "output_type": "execute_result"
    }
   ],
   "source": [
    "# datertime the current date and time, \"return only the time\"\n",
    "datetime.now().time() "
   ]
  },
  {
   "cell_type": "code",
   "execution_count": 20,
   "id": "112058bf",
   "metadata": {},
   "outputs": [
    {
     "data": {
      "text/plain": [
       "Timestamp('2017-01-15 00:00:00')"
      ]
     },
     "execution_count": 20,
     "metadata": {},
     "output_type": "execute_result"
    }
   ],
   "source": [
    "# pd.Timestamp()\n",
    "\n",
    "pd.Timestamp('2017, 1, 15')"
   ]
  },
  {
   "cell_type": "code",
   "execution_count": 21,
   "id": "da932da0",
   "metadata": {},
   "outputs": [
    {
     "data": {
      "text/plain": [
       "Timestamp('2024-06-27 12:00:00')"
      ]
     },
     "execution_count": 21,
     "metadata": {},
     "output_type": "execute_result"
    }
   ],
   "source": [
    "pd.Timestamp('12:00')"
   ]
  },
  {
   "cell_type": "code",
   "execution_count": 22,
   "id": "f1af8aff",
   "metadata": {},
   "outputs": [],
   "source": [
    "# pandas.Timedelta(avlue, unit=None, **kwargs) : 'Timedelta' aavilable both in Python 'datetime.timedelta' and in pandas.\n",
    "\n",
    "#pandas.Timedelta(value , unit=None, **kwargs)"
   ]
  },
  {
   "cell_type": "code",
   "execution_count": 23,
   "id": "30e52908",
   "metadata": {},
   "outputs": [
    {
     "name": "stdout",
     "output_type": "stream",
     "text": [
      "18619 days, 10:04:07.161346\n"
     ]
    }
   ],
   "source": [
    "import pandas as pd\n",
    "import datetime\n",
    "from datetime import datetime\n",
    "\n",
    "my_birth = datetime(1973, 7, 7)\n",
    "today = datetime.today()\n",
    "tomorrow = today + pd.Timedelta(days = 1)\n",
    "\n",
    "print(tomorrow - my_birth)"
   ]
  },
  {
   "cell_type": "code",
   "execution_count": 29,
   "id": "f2edd024",
   "metadata": {},
   "outputs": [
    {
     "data": {
      "text/plain": [
       "Period('1973-07', 'M')"
      ]
     },
     "execution_count": 29,
     "metadata": {},
     "output_type": "execute_result"
    }
   ],
   "source": [
    "import pandas as pd\n",
    "special_day = pd.Period('1973-7', freq = 'M')\n",
    "special_day"
   ]
  },
  {
   "cell_type": "code",
   "execution_count": 32,
   "id": "f3fee9ec",
   "metadata": {},
   "outputs": [
    {
     "name": "stdout",
     "output_type": "stream",
     "text": [
      "1973-07-01 00:00:00\n",
      "1973-07-31 23:59:59.999999999\n"
     ]
    }
   ],
   "source": [
    "# pandas.Period() : has attributes for showing the start and end times.\n",
    "\n",
    "print(special_day.start_time)\n",
    "# return start time of the specify point\n",
    "\n",
    "print(special_day.end_time)\n",
    "# return end time of the specify point"
   ]
  },
  {
   "cell_type": "code",
   "execution_count": 33,
   "id": "06983c5f",
   "metadata": {},
   "outputs": [
    {
     "name": "stdout",
     "output_type": "stream",
     "text": [
      "1973-07\n",
      "1973-09\n"
     ]
    }
   ],
   "source": [
    "n = special_day + 2\n",
    "\n",
    "print(special_day)\n",
    "print(n)"
   ]
  },
  {
   "cell_type": "code",
   "execution_count": 34,
   "id": "9d5ef94c",
   "metadata": {},
   "outputs": [
    {
     "data": {
      "text/plain": [
       "(Timestamp('1973-09-01 00:00:00'), Timestamp('1973-09-30 23:59:59.999999999'))"
      ]
     },
     "execution_count": 34,
     "metadata": {},
     "output_type": "execute_result"
    }
   ],
   "source": [
    "n.start_time, n.end_time"
   ]
  },
  {
   "cell_type": "code",
   "execution_count": null,
   "id": "4421264a",
   "metadata": {},
   "outputs": [],
   "source": []
  }
 ],
 "metadata": {
  "kernelspec": {
   "display_name": "Python 3 (ipykernel)",
   "language": "python",
   "name": "python3"
  },
  "language_info": {
   "codemirror_mode": {
    "name": "ipython",
    "version": 3
   },
   "file_extension": ".py",
   "mimetype": "text/x-python",
   "name": "python",
   "nbconvert_exporter": "python",
   "pygments_lexer": "ipython3",
   "version": "3.1.-1"
  }
 },
 "nbformat": 4,
 "nbformat_minor": 5
}
