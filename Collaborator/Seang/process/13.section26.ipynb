{
 "cells": [
  {
   "cell_type": "code",
   "execution_count": 312,
   "metadata": {},
   "outputs": [],
   "source": [
    "import pandas as pd \n",
    "import numpy as np\n",
    "import matplotlib.pyplot as plt\n",
    "import seaborn as sns\n",
    "import datetime\n",
    "from datetime import date, datetime, time, timezone\n",
    "\n"
   ]
  },
  {
   "cell_type": "code",
   "execution_count": 313,
   "metadata": {},
   "outputs": [
    {
     "data": {
      "text/plain": [
       "datetime.datetime(2024, 7, 15, 0, 0)"
      ]
     },
     "execution_count": 313,
     "metadata": {},
     "output_type": "execute_result"
    }
   ],
   "source": [
    "# Represent of a datetime object, year, month, day\n",
    "datetime(2024, 7, 15)"
   ]
  },
  {
   "cell_type": "code",
   "execution_count": 314,
   "metadata": {},
   "outputs": [
    {
     "data": {
      "text/plain": [
       "datetime.datetime(2024, 7, 15, 15, 53)"
      ]
     },
     "execution_count": 314,
     "metadata": {},
     "output_type": "execute_result"
    }
   ],
   "source": [
    "# Represent of a datetime object, year, month, day, hour, minute, second\n",
    "datetime(2024, 7, 15, 15, 53)"
   ]
  },
  {
   "cell_type": "code",
   "execution_count": 315,
   "metadata": {},
   "outputs": [
    {
     "data": {
      "text/plain": [
       "datetime.datetime(2024, 7, 15, 15, 25, 10)"
      ]
     },
     "execution_count": 315,
     "metadata": {},
     "output_type": "execute_result"
    }
   ],
   "source": [
    "date_1 = date(2024, 7, 15)\n",
    "time_1 = time(15, 25, 10)\n",
    "datetime.combine(date_1, time_1)"
   ]
  },
  {
   "cell_type": "code",
   "execution_count": 316,
   "metadata": {},
   "outputs": [
    {
     "data": {
      "text/plain": [
       "datetime.datetime(2024, 6, 21, 14, 50, 44, 752581)"
      ]
     },
     "execution_count": 316,
     "metadata": {},
     "output_type": "execute_result"
    }
   ],
   "source": [
    "datetime.now()"
   ]
  },
  {
   "cell_type": "code",
   "execution_count": 317,
   "metadata": {},
   "outputs": [
    {
     "data": {
      "text/plain": [
       "Timestamp('2022-02-02 12:00:00')"
      ]
     },
     "execution_count": 317,
     "metadata": {},
     "output_type": "execute_result"
    }
   ],
   "source": [
    "pd.Timestamp('2022, 2, 2, 12:00')"
   ]
  },
  {
   "cell_type": "code",
   "execution_count": 318,
   "metadata": {},
   "outputs": [
    {
     "name": "stdout",
     "output_type": "stream",
     "text": [
      "7830 days, 14:50:44.758924\n"
     ]
    }
   ],
   "source": [
    "my_birth = datetime(2003, 1, 14)\n",
    "today = datetime.today()\n",
    "tomorrow = today + pd.Timedelta(days=1)\n",
    "\n",
    "print(tomorrow - my_birth)\n"
   ]
  },
  {
   "cell_type": "code",
   "execution_count": 319,
   "metadata": {},
   "outputs": [
    {
     "name": "stdout",
     "output_type": "stream",
     "text": [
      "2024-06-21 14:50:44.762001\n",
      "2024-06-22 00:50:44.762001\n"
     ]
    }
   ],
   "source": [
    "today = datetime.today()\n",
    "data = today + pd.Timedelta(hours = 10)\n",
    "\n",
    "print(today)\n",
    "print(data)"
   ]
  },
  {
   "cell_type": "code",
   "execution_count": 320,
   "metadata": {},
   "outputs": [
    {
     "data": {
      "text/plain": [
       "Period('2003-01', 'M')"
      ]
     },
     "execution_count": 320,
     "metadata": {},
     "output_type": "execute_result"
    }
   ],
   "source": [
    "special_day = pd.Period('2003-01-14', freq='M')\n",
    "special_day\n"
   ]
  },
  {
   "cell_type": "code",
   "execution_count": 321,
   "metadata": {},
   "outputs": [
    {
     "data": {
      "text/plain": [
       "Timestamp('2003-01-01 00:00:00')"
      ]
     },
     "execution_count": 321,
     "metadata": {},
     "output_type": "execute_result"
    }
   ],
   "source": [
    "special_day.start_time"
   ]
  },
  {
   "cell_type": "code",
   "execution_count": 322,
   "metadata": {},
   "outputs": [
    {
     "data": {
      "text/plain": [
       "Timestamp('2003-01-31 23:59:59.999999999')"
      ]
     },
     "execution_count": 322,
     "metadata": {},
     "output_type": "execute_result"
    }
   ],
   "source": [
    "special_day.end_time"
   ]
  },
  {
   "cell_type": "code",
   "execution_count": 323,
   "metadata": {},
   "outputs": [
    {
     "name": "stdout",
     "output_type": "stream",
     "text": [
      "2003-01\n",
      "2003-03\n"
     ]
    }
   ],
   "source": [
    "n = special_day + 2\n",
    "\n",
    "print(special_day)\n",
    "print(n)"
   ]
  },
  {
   "cell_type": "code",
   "execution_count": 324,
   "metadata": {},
   "outputs": [
    {
     "data": {
      "text/plain": [
       "(Timestamp('2003-03-01 00:00:00'), Timestamp('2003-03-31 23:59:59.999999999'))"
      ]
     },
     "execution_count": 324,
     "metadata": {},
     "output_type": "execute_result"
    }
   ],
   "source": [
    "n.start_time, n.end_time"
   ]
  },
  {
   "cell_type": "code",
   "execution_count": 325,
   "metadata": {},
   "outputs": [
    {
     "data": {
      "text/plain": [
       "DatetimeIndex(['2021-01-01 00:00:00+09:00', '2021-01-02 00:00:00+09:00',\n",
       "               '2021-01-03 00:00:00+09:00', '2021-01-04 00:00:00+09:00',\n",
       "               '2021-01-05 00:00:00+09:00'],\n",
       "              dtype='datetime64[ns, Asia/Seoul]', freq='D')"
      ]
     },
     "execution_count": 325,
     "metadata": {},
     "output_type": "execute_result"
    }
   ],
   "source": [
    "pd.date_range(start = '2021-01-01', end = '2021-01-05', freq = 'D', tz='Asia/Seoul')"
   ]
  },
  {
   "cell_type": "code",
   "execution_count": 326,
   "metadata": {},
   "outputs": [
    {
     "data": {
      "text/plain": [
       "DatetimeIndex(['2021-01-01 00:00:00+09:00', '2021-01-02 00:00:00+09:00',\n",
       "               '2021-01-03 00:00:00+09:00', '2021-01-04 00:00:00+09:00',\n",
       "               '2021-01-05 00:00:00+09:00', '2021-01-06 00:00:00+09:00',\n",
       "               '2021-01-07 00:00:00+09:00', '2021-01-08 00:00:00+09:00',\n",
       "               '2021-01-09 00:00:00+09:00', '2021-01-10 00:00:00+09:00'],\n",
       "              dtype='datetime64[ns, Asia/Seoul]', freq='D')"
      ]
     },
     "execution_count": 326,
     "metadata": {},
     "output_type": "execute_result"
    }
   ],
   "source": [
    "pd.date_range(start = '2021-01-01', end=None, periods=10 , freq = 'D', tz='Asia/Seoul')"
   ]
  },
  {
   "cell_type": "code",
   "execution_count": 327,
   "metadata": {},
   "outputs": [
    {
     "data": {
      "text/plain": [
       "DatetimeIndex(['2021-01-31 00:00:00+09:00', '2021-02-28 00:00:00+09:00',\n",
       "               '2021-03-31 00:00:00+09:00', '2021-04-30 00:00:00+09:00',\n",
       "               '2021-05-31 00:00:00+09:00', '2021-06-30 00:00:00+09:00',\n",
       "               '2021-07-31 00:00:00+09:00', '2021-08-31 00:00:00+09:00',\n",
       "               '2021-09-30 00:00:00+09:00', '2021-10-31 00:00:00+09:00'],\n",
       "              dtype='datetime64[ns, Asia/Seoul]', freq='M')"
      ]
     },
     "execution_count": 327,
     "metadata": {},
     "output_type": "execute_result"
    }
   ],
   "source": [
    "pd.date_range(start = '2021-01-01', end=None, periods=10 , freq = 'M', tz='Asia/Seoul')"
   ]
  },
  {
   "cell_type": "code",
   "execution_count": 328,
   "metadata": {},
   "outputs": [
    {
     "data": {
      "text/plain": [
       "DatetimeIndex(['2021-01-31 00:00:00+09:00', '2021-02-28 00:00:00+09:00',\n",
       "               '2021-03-31 00:00:00+09:00', '2021-04-30 00:00:00+09:00',\n",
       "               '2021-05-31 00:00:00+09:00', '2021-06-30 00:00:00+09:00',\n",
       "               '2021-07-31 00:00:00+09:00', '2021-08-31 00:00:00+09:00',\n",
       "               '2021-09-30 00:00:00+09:00', '2021-10-31 00:00:00+09:00',\n",
       "               '2021-11-30 00:00:00+09:00'],\n",
       "              dtype='datetime64[ns, Asia/Seoul]', freq='M')"
      ]
     },
     "execution_count": 328,
     "metadata": {},
     "output_type": "execute_result"
    }
   ],
   "source": [
    "pd.date_range(start = '2021-01-01', end='2021-12-10', periods=None, freq = 'M', tz='Asia/Seoul')"
   ]
  },
  {
   "cell_type": "code",
   "execution_count": 329,
   "metadata": {},
   "outputs": [
    {
     "name": "stderr",
     "output_type": "stream",
     "text": [
      "[*********************100%%**********************]  1 of 1 completed\n"
     ]
    },
    {
     "data": {
      "text/html": [
       "<div>\n",
       "<style scoped>\n",
       "    .dataframe tbody tr th:only-of-type {\n",
       "        vertical-align: middle;\n",
       "    }\n",
       "\n",
       "    .dataframe tbody tr th {\n",
       "        vertical-align: top;\n",
       "    }\n",
       "\n",
       "    .dataframe thead th {\n",
       "        text-align: right;\n",
       "    }\n",
       "</style>\n",
       "<table border=\"1\" class=\"dataframe\">\n",
       "  <thead>\n",
       "    <tr style=\"text-align: right;\">\n",
       "      <th></th>\n",
       "      <th>Open</th>\n",
       "      <th>High</th>\n",
       "      <th>Low</th>\n",
       "      <th>Close</th>\n",
       "      <th>Adj Close</th>\n",
       "      <th>Volume</th>\n",
       "    </tr>\n",
       "    <tr>\n",
       "      <th>Date</th>\n",
       "      <th></th>\n",
       "      <th></th>\n",
       "      <th></th>\n",
       "      <th></th>\n",
       "      <th></th>\n",
       "      <th></th>\n",
       "    </tr>\n",
       "  </thead>\n",
       "  <tbody>\n",
       "    <tr>\n",
       "      <th>2020-01-02</th>\n",
       "      <td>55500.0</td>\n",
       "      <td>56000.0</td>\n",
       "      <td>55000.0</td>\n",
       "      <td>55200.0</td>\n",
       "      <td>49318.425781</td>\n",
       "      <td>12993228</td>\n",
       "    </tr>\n",
       "    <tr>\n",
       "      <th>2020-01-03</th>\n",
       "      <td>56000.0</td>\n",
       "      <td>56600.0</td>\n",
       "      <td>54900.0</td>\n",
       "      <td>55500.0</td>\n",
       "      <td>49586.453125</td>\n",
       "      <td>15422255</td>\n",
       "    </tr>\n",
       "    <tr>\n",
       "      <th>2020-01-06</th>\n",
       "      <td>54900.0</td>\n",
       "      <td>55600.0</td>\n",
       "      <td>54600.0</td>\n",
       "      <td>55500.0</td>\n",
       "      <td>49586.453125</td>\n",
       "      <td>10278951</td>\n",
       "    </tr>\n",
       "    <tr>\n",
       "      <th>2020-01-07</th>\n",
       "      <td>55700.0</td>\n",
       "      <td>56400.0</td>\n",
       "      <td>55600.0</td>\n",
       "      <td>55800.0</td>\n",
       "      <td>49854.496094</td>\n",
       "      <td>10009778</td>\n",
       "    </tr>\n",
       "    <tr>\n",
       "      <th>2020-01-08</th>\n",
       "      <td>56200.0</td>\n",
       "      <td>57400.0</td>\n",
       "      <td>55900.0</td>\n",
       "      <td>56800.0</td>\n",
       "      <td>50747.941406</td>\n",
       "      <td>23501171</td>\n",
       "    </tr>\n",
       "    <tr>\n",
       "      <th>...</th>\n",
       "      <td>...</td>\n",
       "      <td>...</td>\n",
       "      <td>...</td>\n",
       "      <td>...</td>\n",
       "      <td>...</td>\n",
       "      <td>...</td>\n",
       "    </tr>\n",
       "    <tr>\n",
       "      <th>2020-12-23</th>\n",
       "      <td>72400.0</td>\n",
       "      <td>74000.0</td>\n",
       "      <td>72300.0</td>\n",
       "      <td>73900.0</td>\n",
       "      <td>67370.007812</td>\n",
       "      <td>19411326</td>\n",
       "    </tr>\n",
       "    <tr>\n",
       "      <th>2020-12-24</th>\n",
       "      <td>74100.0</td>\n",
       "      <td>78800.0</td>\n",
       "      <td>74000.0</td>\n",
       "      <td>77800.0</td>\n",
       "      <td>70925.414062</td>\n",
       "      <td>32502870</td>\n",
       "    </tr>\n",
       "    <tr>\n",
       "      <th>2020-12-28</th>\n",
       "      <td>79000.0</td>\n",
       "      <td>80100.0</td>\n",
       "      <td>78200.0</td>\n",
       "      <td>78700.0</td>\n",
       "      <td>71745.882812</td>\n",
       "      <td>40085044</td>\n",
       "    </tr>\n",
       "    <tr>\n",
       "      <th>2020-12-29</th>\n",
       "      <td>78800.0</td>\n",
       "      <td>78900.0</td>\n",
       "      <td>77300.0</td>\n",
       "      <td>78300.0</td>\n",
       "      <td>73177.664062</td>\n",
       "      <td>30339449</td>\n",
       "    </tr>\n",
       "    <tr>\n",
       "      <th>2020-12-30</th>\n",
       "      <td>77400.0</td>\n",
       "      <td>81300.0</td>\n",
       "      <td>77300.0</td>\n",
       "      <td>81000.0</td>\n",
       "      <td>75701.046875</td>\n",
       "      <td>29417421</td>\n",
       "    </tr>\n",
       "  </tbody>\n",
       "</table>\n",
       "<p>248 rows × 6 columns</p>\n",
       "</div>"
      ],
      "text/plain": [
       "               Open     High      Low    Close     Adj Close    Volume\n",
       "Date                                                                  \n",
       "2020-01-02  55500.0  56000.0  55000.0  55200.0  49318.425781  12993228\n",
       "2020-01-03  56000.0  56600.0  54900.0  55500.0  49586.453125  15422255\n",
       "2020-01-06  54900.0  55600.0  54600.0  55500.0  49586.453125  10278951\n",
       "2020-01-07  55700.0  56400.0  55600.0  55800.0  49854.496094  10009778\n",
       "2020-01-08  56200.0  57400.0  55900.0  56800.0  50747.941406  23501171\n",
       "...             ...      ...      ...      ...           ...       ...\n",
       "2020-12-23  72400.0  74000.0  72300.0  73900.0  67370.007812  19411326\n",
       "2020-12-24  74100.0  78800.0  74000.0  77800.0  70925.414062  32502870\n",
       "2020-12-28  79000.0  80100.0  78200.0  78700.0  71745.882812  40085044\n",
       "2020-12-29  78800.0  78900.0  77300.0  78300.0  73177.664062  30339449\n",
       "2020-12-30  77400.0  81300.0  77300.0  81000.0  75701.046875  29417421\n",
       "\n",
       "[248 rows x 6 columns]"
      ]
     },
     "execution_count": 329,
     "metadata": {},
     "output_type": "execute_result"
    }
   ],
   "source": [
    "import yfinance as yf\n",
    "\n",
    "# samsung electronic stock code\n",
    "symbol = '005930.KS'\n",
    "start = '2020-01-01'\n",
    "end = '2020-12-31'\n",
    "\n",
    "sec = yf.download(symbol, start=start, end=end)\n",
    "sec"
   ]
  },
  {
   "cell_type": "code",
   "execution_count": 330,
   "metadata": {},
   "outputs": [
    {
     "name": "stdout",
     "output_type": "stream",
     "text": [
      "<class 'pandas.core.frame.DataFrame'>\n",
      "DatetimeIndex: 248 entries, 2020-01-02 to 2020-12-30\n",
      "Data columns (total 6 columns):\n",
      " #   Column     Non-Null Count  Dtype  \n",
      "---  ------     --------------  -----  \n",
      " 0   Open       248 non-null    float64\n",
      " 1   High       248 non-null    float64\n",
      " 2   Low        248 non-null    float64\n",
      " 3   Close      248 non-null    float64\n",
      " 4   Adj Close  248 non-null    float64\n",
      " 5   Volume     248 non-null    int64  \n",
      "dtypes: float64(5), int64(1)\n",
      "memory usage: 13.6 KB\n"
     ]
    }
   ],
   "source": [
    "sec.info()"
   ]
  },
  {
   "cell_type": "code",
   "execution_count": 331,
   "metadata": {},
   "outputs": [
    {
     "data": {
      "text/plain": [
       "Date\n",
       "2020-01-02             NaN\n",
       "2020-01-03             NaN\n",
       "2020-01-06             NaN\n",
       "2020-01-07             NaN\n",
       "2020-01-08    49818.753906\n",
       "2020-01-09    50426.296875\n",
       "2020-01-10    51141.055469\n",
       "2020-01-13    51945.158594\n",
       "2020-01-14    52695.653125\n",
       "2020-01-15    53088.769531\n",
       "Name: Adj Close, dtype: float64"
      ]
     },
     "execution_count": 331,
     "metadata": {},
     "output_type": "execute_result"
    }
   ],
   "source": [
    "ma5 = sec['Adj Close'].rolling(window=5).mean()\n",
    "ma5.head(10)"
   ]
  },
  {
   "cell_type": "code",
   "execution_count": 332,
   "metadata": {},
   "outputs": [
    {
     "data": {
      "image/png": "[encoded data removed]",
      "text/plain": [
       "<Figure size 1500x1000 with 1 Axes>"
      ]
     },
     "metadata": {},
     "output_type": "display_data"
    }
   ],
   "source": [
    "close = sec['Adj Close']\n",
    "\n",
    "# Rolling window calculations\n",
    "# it returns a dataframe, the value of the rolling window, that is the mean of the window in the dataframe\n",
    "# from column 'Adj Close'\n",
    "ma5 = close.rolling(window=5).mean()\n",
    "ma10 = close.rolling(window=10).mean()\n",
    "ma60 = close.rolling(window=60).mean()\n",
    "ma120 = close.rolling(window=120).mean()\n",
    "\n",
    "plt.figure(figsize=(15, 10))\n",
    "\n",
    "plt.plot(close, label= 'close', linewidth=4)\n",
    "plt.plot(ma5, label = '5 window')\n",
    "plt.plot(ma10, label = '10 window')\n",
    "plt.plot(ma60, label = '60 window')\n",
    "plt.plot(ma120, label = '120 window')\n",
    "\n",
    "plt.legend()\n",
    "plt.title('Rolling window calculations')\n",
    "plt.xlabel('Date')\n",
    "plt.ylabel('Close Price')\n",
    "plt.show()"
   ]
  },
  {
   "cell_type": "code",
   "execution_count": 333,
   "metadata": {},
   "outputs": [],
   "source": [
    "# 1 convert the CSV file into a Pandas DataFrame\n",
    "capture_vs_aqua = pd.read_csv('../data/capture-fisheries-vs-aquaculture.csv')"
   ]
  },
  {
   "cell_type": "code",
   "execution_count": 334,
   "metadata": {},
   "outputs": [
    {
     "data": {
      "text/html": [
       "<div>\n",
       "<style scoped>\n",
       "    .dataframe tbody tr th:only-of-type {\n",
       "        vertical-align: middle;\n",
       "    }\n",
       "\n",
       "    .dataframe tbody tr th {\n",
       "        vertical-align: top;\n",
       "    }\n",
       "\n",
       "    .dataframe thead th {\n",
       "        text-align: right;\n",
       "    }\n",
       "</style>\n",
       "<table border=\"1\" class=\"dataframe\">\n",
       "  <thead>\n",
       "    <tr style=\"text-align: right;\">\n",
       "      <th></th>\n",
       "      <th>Entity</th>\n",
       "      <th>Code</th>\n",
       "      <th>Year</th>\n",
       "      <th>Aquaculture production (metric tons)</th>\n",
       "      <th>Capture fisheries production (metric tons)</th>\n",
       "    </tr>\n",
       "  </thead>\n",
       "  <tbody>\n",
       "    <tr>\n",
       "      <th>0</th>\n",
       "      <td>Afghanistan</td>\n",
       "      <td>AFG</td>\n",
       "      <td>1960</td>\n",
       "      <td>0.0</td>\n",
       "      <td>200.0</td>\n",
       "    </tr>\n",
       "    <tr>\n",
       "      <th>1</th>\n",
       "      <td>Afghanistan</td>\n",
       "      <td>AFG</td>\n",
       "      <td>1961</td>\n",
       "      <td>0.0</td>\n",
       "      <td>300.0</td>\n",
       "    </tr>\n",
       "    <tr>\n",
       "      <th>2</th>\n",
       "      <td>Afghanistan</td>\n",
       "      <td>AFG</td>\n",
       "      <td>1962</td>\n",
       "      <td>0.0</td>\n",
       "      <td>300.0</td>\n",
       "    </tr>\n",
       "    <tr>\n",
       "      <th>3</th>\n",
       "      <td>Afghanistan</td>\n",
       "      <td>AFG</td>\n",
       "      <td>1963</td>\n",
       "      <td>0.0</td>\n",
       "      <td>300.0</td>\n",
       "    </tr>\n",
       "    <tr>\n",
       "      <th>4</th>\n",
       "      <td>Afghanistan</td>\n",
       "      <td>AFG</td>\n",
       "      <td>1964</td>\n",
       "      <td>0.0</td>\n",
       "      <td>300.0</td>\n",
       "    </tr>\n",
       "  </tbody>\n",
       "</table>\n",
       "</div>"
      ],
      "text/plain": [
       "        Entity Code  Year  Aquaculture production (metric tons)  \\\n",
       "0  Afghanistan  AFG  1960                                   0.0   \n",
       "1  Afghanistan  AFG  1961                                   0.0   \n",
       "2  Afghanistan  AFG  1962                                   0.0   \n",
       "3  Afghanistan  AFG  1963                                   0.0   \n",
       "4  Afghanistan  AFG  1964                                   0.0   \n",
       "\n",
       "   Capture fisheries production (metric tons)  \n",
       "0                                       200.0  \n",
       "1                                       300.0  \n",
       "2                                       300.0  \n",
       "3                                       300.0  \n",
       "4                                       300.0  "
      ]
     },
     "execution_count": 334,
     "metadata": {},
     "output_type": "execute_result"
    }
   ],
   "source": [
    "capture_vs_aqua.head()"
   ]
  },
  {
   "cell_type": "code",
   "execution_count": 335,
   "metadata": {},
   "outputs": [
    {
     "name": "stdout",
     "output_type": "stream",
     "text": [
      "<class 'pandas.core.frame.DataFrame'>\n",
      "RangeIndex: 14260 entries, 0 to 14259\n",
      "Data columns (total 5 columns):\n",
      " #   Column                                      Non-Null Count  Dtype  \n",
      "---  ------                                      --------------  -----  \n",
      " 0   Entity                                      14260 non-null  object \n",
      " 1   Code                                        13392 non-null  object \n",
      " 2   Year                                        14260 non-null  int64  \n",
      " 3   Aquaculture production (metric tons)        13082 non-null  float64\n",
      " 4   Capture fisheries production (metric tons)  14260 non-null  float64\n",
      "dtypes: float64(2), int64(1), object(2)\n",
      "memory usage: 557.2+ KB\n"
     ]
    }
   ],
   "source": [
    "capture_vs_aqua.info()"
   ]
  },
  {
   "cell_type": "code",
   "execution_count": 336,
   "metadata": {},
   "outputs": [
    {
     "data": {
      "text/html": [
       "<div>\n",
       "<style scoped>\n",
       "    .dataframe tbody tr th:only-of-type {\n",
       "        vertical-align: middle;\n",
       "    }\n",
       "\n",
       "    .dataframe tbody tr th {\n",
       "        vertical-align: top;\n",
       "    }\n",
       "\n",
       "    .dataframe thead th {\n",
       "        text-align: right;\n",
       "    }\n",
       "</style>\n",
       "<table border=\"1\" class=\"dataframe\">\n",
       "  <thead>\n",
       "    <tr style=\"text-align: right;\">\n",
       "      <th></th>\n",
       "      <th>Year</th>\n",
       "      <th>Aquaculture production (metric tons)</th>\n",
       "      <th>Capture fisheries production (metric tons)</th>\n",
       "    </tr>\n",
       "  </thead>\n",
       "  <tbody>\n",
       "    <tr>\n",
       "      <th>count</th>\n",
       "      <td>14260.000000</td>\n",
       "      <td>1.308200e+04</td>\n",
       "      <td>1.426000e+04</td>\n",
       "    </tr>\n",
       "    <tr>\n",
       "      <th>mean</th>\n",
       "      <td>1990.500000</td>\n",
       "      <td>8.642082e+05</td>\n",
       "      <td>1.481857e+06</td>\n",
       "    </tr>\n",
       "    <tr>\n",
       "      <th>std</th>\n",
       "      <td>17.896158</td>\n",
       "      <td>6.734650e+06</td>\n",
       "      <td>6.973984e+06</td>\n",
       "    </tr>\n",
       "    <tr>\n",
       "      <th>min</th>\n",
       "      <td>1960.000000</td>\n",
       "      <td>0.000000e+00</td>\n",
       "      <td>0.000000e+00</td>\n",
       "    </tr>\n",
       "    <tr>\n",
       "      <th>25%</th>\n",
       "      <td>1975.000000</td>\n",
       "      <td>0.000000e+00</td>\n",
       "      <td>1.600000e+03</td>\n",
       "    </tr>\n",
       "    <tr>\n",
       "      <th>50%</th>\n",
       "      <td>1990.500000</td>\n",
       "      <td>2.100000e+02</td>\n",
       "      <td>2.020000e+04</td>\n",
       "    </tr>\n",
       "    <tr>\n",
       "      <th>75%</th>\n",
       "      <td>2006.000000</td>\n",
       "      <td>1.342650e+04</td>\n",
       "      <td>2.314540e+05</td>\n",
       "    </tr>\n",
       "    <tr>\n",
       "      <th>max</th>\n",
       "      <td>2021.000000</td>\n",
       "      <td>1.260351e+08</td>\n",
       "      <td>9.698916e+07</td>\n",
       "    </tr>\n",
       "  </tbody>\n",
       "</table>\n",
       "</div>"
      ],
      "text/plain": [
       "               Year  Aquaculture production (metric tons)  \\\n",
       "count  14260.000000                          1.308200e+04   \n",
       "mean    1990.500000                          8.642082e+05   \n",
       "std       17.896158                          6.734650e+06   \n",
       "min     1960.000000                          0.000000e+00   \n",
       "25%     1975.000000                          0.000000e+00   \n",
       "50%     1990.500000                          2.100000e+02   \n",
       "75%     2006.000000                          1.342650e+04   \n",
       "max     2021.000000                          1.260351e+08   \n",
       "\n",
       "       Capture fisheries production (metric tons)  \n",
       "count                                1.426000e+04  \n",
       "mean                                 1.481857e+06  \n",
       "std                                  6.973984e+06  \n",
       "min                                  0.000000e+00  \n",
       "25%                                  1.600000e+03  \n",
       "50%                                  2.020000e+04  \n",
       "75%                                  2.314540e+05  \n",
       "max                                  9.698916e+07  "
      ]
     },
     "execution_count": 336,
     "metadata": {},
     "output_type": "execute_result"
    }
   ],
   "source": [
    "capture_vs_aqua.describe()"
   ]
  },
  {
   "cell_type": "code",
   "execution_count": 337,
   "metadata": {},
   "outputs": [],
   "source": [
    "capture_vs_aqua.drop(['Code'], axis=1, inplace=True)"
   ]
  },
  {
   "cell_type": "code",
   "execution_count": 338,
   "metadata": {},
   "outputs": [
    {
     "data": {
      "text/html": [
       "<div>\n",
       "<style scoped>\n",
       "    .dataframe tbody tr th:only-of-type {\n",
       "        vertical-align: middle;\n",
       "    }\n",
       "\n",
       "    .dataframe tbody tr th {\n",
       "        vertical-align: top;\n",
       "    }\n",
       "\n",
       "    .dataframe thead th {\n",
       "        text-align: right;\n",
       "    }\n",
       "</style>\n",
       "<table border=\"1\" class=\"dataframe\">\n",
       "  <thead>\n",
       "    <tr style=\"text-align: right;\">\n",
       "      <th></th>\n",
       "      <th>Entity</th>\n",
       "      <th>Year</th>\n",
       "      <th>Aquaculture production (metric tons)</th>\n",
       "      <th>Capture fisheries production (metric tons)</th>\n",
       "    </tr>\n",
       "  </thead>\n",
       "  <tbody>\n",
       "    <tr>\n",
       "      <th>0</th>\n",
       "      <td>Afghanistan</td>\n",
       "      <td>1960</td>\n",
       "      <td>0.00</td>\n",
       "      <td>200.00</td>\n",
       "    </tr>\n",
       "    <tr>\n",
       "      <th>1</th>\n",
       "      <td>Afghanistan</td>\n",
       "      <td>1961</td>\n",
       "      <td>0.00</td>\n",
       "      <td>300.00</td>\n",
       "    </tr>\n",
       "    <tr>\n",
       "      <th>2</th>\n",
       "      <td>Afghanistan</td>\n",
       "      <td>1962</td>\n",
       "      <td>0.00</td>\n",
       "      <td>300.00</td>\n",
       "    </tr>\n",
       "    <tr>\n",
       "      <th>3</th>\n",
       "      <td>Afghanistan</td>\n",
       "      <td>1963</td>\n",
       "      <td>0.00</td>\n",
       "      <td>300.00</td>\n",
       "    </tr>\n",
       "    <tr>\n",
       "      <th>4</th>\n",
       "      <td>Afghanistan</td>\n",
       "      <td>1964</td>\n",
       "      <td>0.00</td>\n",
       "      <td>300.00</td>\n",
       "    </tr>\n",
       "    <tr>\n",
       "      <th>...</th>\n",
       "      <td>...</td>\n",
       "      <td>...</td>\n",
       "      <td>...</td>\n",
       "      <td>...</td>\n",
       "    </tr>\n",
       "    <tr>\n",
       "      <th>14255</th>\n",
       "      <td>Zimbabwe</td>\n",
       "      <td>2017</td>\n",
       "      <td>17909.06</td>\n",
       "      <td>31258.35</td>\n",
       "    </tr>\n",
       "    <tr>\n",
       "      <th>14256</th>\n",
       "      <td>Zimbabwe</td>\n",
       "      <td>2018</td>\n",
       "      <td>18759.33</td>\n",
       "      <td>29306.96</td>\n",
       "    </tr>\n",
       "    <tr>\n",
       "      <th>14257</th>\n",
       "      <td>Zimbabwe</td>\n",
       "      <td>2019</td>\n",
       "      <td>20356.01</td>\n",
       "      <td>26569.26</td>\n",
       "    </tr>\n",
       "    <tr>\n",
       "      <th>14258</th>\n",
       "      <td>Zimbabwe</td>\n",
       "      <td>2020</td>\n",
       "      <td>21276.34</td>\n",
       "      <td>26671.55</td>\n",
       "    </tr>\n",
       "    <tr>\n",
       "      <th>14259</th>\n",
       "      <td>Zimbabwe</td>\n",
       "      <td>2021</td>\n",
       "      <td>5057.82</td>\n",
       "      <td>22734.00</td>\n",
       "    </tr>\n",
       "  </tbody>\n",
       "</table>\n",
       "<p>14260 rows × 4 columns</p>\n",
       "</div>"
      ],
      "text/plain": [
       "            Entity  Year  Aquaculture production (metric tons)  \\\n",
       "0      Afghanistan  1960                                  0.00   \n",
       "1      Afghanistan  1961                                  0.00   \n",
       "2      Afghanistan  1962                                  0.00   \n",
       "3      Afghanistan  1963                                  0.00   \n",
       "4      Afghanistan  1964                                  0.00   \n",
       "...            ...   ...                                   ...   \n",
       "14255     Zimbabwe  2017                              17909.06   \n",
       "14256     Zimbabwe  2018                              18759.33   \n",
       "14257     Zimbabwe  2019                              20356.01   \n",
       "14258     Zimbabwe  2020                              21276.34   \n",
       "14259     Zimbabwe  2021                               5057.82   \n",
       "\n",
       "       Capture fisheries production (metric tons)  \n",
       "0                                          200.00  \n",
       "1                                          300.00  \n",
       "2                                          300.00  \n",
       "3                                          300.00  \n",
       "4                                          300.00  \n",
       "...                                           ...  \n",
       "14255                                    31258.35  \n",
       "14256                                    29306.96  \n",
       "14257                                    26569.26  \n",
       "14258                                    26671.55  \n",
       "14259                                    22734.00  \n",
       "\n",
       "[14260 rows x 4 columns]"
      ]
     },
     "execution_count": 338,
     "metadata": {},
     "output_type": "execute_result"
    }
   ],
   "source": [
    "capture_vs_aqua"
   ]
  },
  {
   "cell_type": "code",
   "execution_count": 339,
   "metadata": {},
   "outputs": [
    {
     "data": {
      "text/plain": [
       "Entity                                           0\n",
       "Year                                             0\n",
       "Aquaculture production (metric tons)          1178\n",
       "Capture fisheries production (metric tons)       0\n",
       "dtype: int64"
      ]
     },
     "execution_count": 339,
     "metadata": {},
     "output_type": "execute_result"
    }
   ],
   "source": [
    "capture_vs_aqua.isnull().sum()"
   ]
  },
  {
   "cell_type": "code",
   "execution_count": 340,
   "metadata": {},
   "outputs": [
    {
     "data": {
      "text/plain": [
       "Entity                                        0\n",
       "Year                                          0\n",
       "Aquaculture production (metric tons)          0\n",
       "Capture fisheries production (metric tons)    0\n",
       "dtype: int64"
      ]
     },
     "execution_count": 340,
     "metadata": {},
     "output_type": "execute_result"
    }
   ],
   "source": [
    "capture_vs_aqua.fillna(0, inplace=True)\n",
    "\n",
    "capture_vs_aqua.isnull().sum()"
   ]
  },
  {
   "cell_type": "code",
   "execution_count": 341,
   "metadata": {},
   "outputs": [
    {
     "data": {
      "text/html": [
       "<div>\n",
       "<style scoped>\n",
       "    .dataframe tbody tr th:only-of-type {\n",
       "        vertical-align: middle;\n",
       "    }\n",
       "\n",
       "    .dataframe tbody tr th {\n",
       "        vertical-align: top;\n",
       "    }\n",
       "\n",
       "    .dataframe thead th {\n",
       "        text-align: right;\n",
       "    }\n",
       "</style>\n",
       "<table border=\"1\" class=\"dataframe\">\n",
       "  <thead>\n",
       "    <tr style=\"text-align: right;\">\n",
       "      <th></th>\n",
       "      <th>Entity</th>\n",
       "      <th>Year</th>\n",
       "      <th>Aquaculture production (metric tons)</th>\n",
       "      <th>Capture fisheries production (metric tons)</th>\n",
       "    </tr>\n",
       "  </thead>\n",
       "  <tbody>\n",
       "    <tr>\n",
       "      <th>0</th>\n",
       "      <td>Afghanistan</td>\n",
       "      <td>1960</td>\n",
       "      <td>0.00</td>\n",
       "      <td>200.00</td>\n",
       "    </tr>\n",
       "    <tr>\n",
       "      <th>1</th>\n",
       "      <td>Afghanistan</td>\n",
       "      <td>1961</td>\n",
       "      <td>0.00</td>\n",
       "      <td>300.00</td>\n",
       "    </tr>\n",
       "    <tr>\n",
       "      <th>2</th>\n",
       "      <td>Afghanistan</td>\n",
       "      <td>1962</td>\n",
       "      <td>0.00</td>\n",
       "      <td>300.00</td>\n",
       "    </tr>\n",
       "    <tr>\n",
       "      <th>3</th>\n",
       "      <td>Afghanistan</td>\n",
       "      <td>1963</td>\n",
       "      <td>0.00</td>\n",
       "      <td>300.00</td>\n",
       "    </tr>\n",
       "    <tr>\n",
       "      <th>4</th>\n",
       "      <td>Afghanistan</td>\n",
       "      <td>1964</td>\n",
       "      <td>0.00</td>\n",
       "      <td>300.00</td>\n",
       "    </tr>\n",
       "    <tr>\n",
       "      <th>...</th>\n",
       "      <td>...</td>\n",
       "      <td>...</td>\n",
       "      <td>...</td>\n",
       "      <td>...</td>\n",
       "    </tr>\n",
       "    <tr>\n",
       "      <th>14255</th>\n",
       "      <td>Zimbabwe</td>\n",
       "      <td>2017</td>\n",
       "      <td>17909.06</td>\n",
       "      <td>31258.35</td>\n",
       "    </tr>\n",
       "    <tr>\n",
       "      <th>14256</th>\n",
       "      <td>Zimbabwe</td>\n",
       "      <td>2018</td>\n",
       "      <td>18759.33</td>\n",
       "      <td>29306.96</td>\n",
       "    </tr>\n",
       "    <tr>\n",
       "      <th>14257</th>\n",
       "      <td>Zimbabwe</td>\n",
       "      <td>2019</td>\n",
       "      <td>20356.01</td>\n",
       "      <td>26569.26</td>\n",
       "    </tr>\n",
       "    <tr>\n",
       "      <th>14258</th>\n",
       "      <td>Zimbabwe</td>\n",
       "      <td>2020</td>\n",
       "      <td>21276.34</td>\n",
       "      <td>26671.55</td>\n",
       "    </tr>\n",
       "    <tr>\n",
       "      <th>14259</th>\n",
       "      <td>Zimbabwe</td>\n",
       "      <td>2021</td>\n",
       "      <td>5057.82</td>\n",
       "      <td>22734.00</td>\n",
       "    </tr>\n",
       "  </tbody>\n",
       "</table>\n",
       "<p>14260 rows × 4 columns</p>\n",
       "</div>"
      ],
      "text/plain": [
       "            Entity  Year  Aquaculture production (metric tons)  \\\n",
       "0      Afghanistan  1960                                  0.00   \n",
       "1      Afghanistan  1961                                  0.00   \n",
       "2      Afghanistan  1962                                  0.00   \n",
       "3      Afghanistan  1963                                  0.00   \n",
       "4      Afghanistan  1964                                  0.00   \n",
       "...            ...   ...                                   ...   \n",
       "14255     Zimbabwe  2017                              17909.06   \n",
       "14256     Zimbabwe  2018                              18759.33   \n",
       "14257     Zimbabwe  2019                              20356.01   \n",
       "14258     Zimbabwe  2020                              21276.34   \n",
       "14259     Zimbabwe  2021                               5057.82   \n",
       "\n",
       "       Capture fisheries production (metric tons)  \n",
       "0                                          200.00  \n",
       "1                                          300.00  \n",
       "2                                          300.00  \n",
       "3                                          300.00  \n",
       "4                                          300.00  \n",
       "...                                           ...  \n",
       "14255                                    31258.35  \n",
       "14256                                    29306.96  \n",
       "14257                                    26569.26  \n",
       "14258                                    26671.55  \n",
       "14259                                    22734.00  \n",
       "\n",
       "[14260 rows x 4 columns]"
      ]
     },
     "execution_count": 341,
     "metadata": {},
     "output_type": "execute_result"
    }
   ],
   "source": [
    "capture_vs_aqua"
   ]
  },
  {
   "cell_type": "code",
   "execution_count": 342,
   "metadata": {},
   "outputs": [
    {
     "name": "stdout",
     "output_type": "stream",
     "text": [
      "<class 'pandas.core.frame.DataFrame'>\n",
      "RangeIndex: 14260 entries, 0 to 14259\n",
      "Data columns (total 4 columns):\n",
      " #   Column                                      Non-Null Count  Dtype  \n",
      "---  ------                                      --------------  -----  \n",
      " 0   Entity                                      14260 non-null  object \n",
      " 1   Year                                        14260 non-null  int64  \n",
      " 2   Aquaculture production (metric tons)        14260 non-null  float64\n",
      " 3   Capture fisheries production (metric tons)  14260 non-null  float64\n",
      "dtypes: float64(2), int64(1), object(1)\n",
      "memory usage: 445.8+ KB\n"
     ]
    }
   ],
   "source": [
    "capture_vs_aqua.info()"
   ]
  },
  {
   "cell_type": "code",
   "execution_count": 343,
   "metadata": {},
   "outputs": [
    {
     "data": {
      "text/html": [
       "<div>\n",
       "<style scoped>\n",
       "    .dataframe tbody tr th:only-of-type {\n",
       "        vertical-align: middle;\n",
       "    }\n",
       "\n",
       "    .dataframe tbody tr th {\n",
       "        vertical-align: top;\n",
       "    }\n",
       "\n",
       "    .dataframe thead th {\n",
       "        text-align: right;\n",
       "    }\n",
       "</style>\n",
       "<table border=\"1\" class=\"dataframe\">\n",
       "  <thead>\n",
       "    <tr style=\"text-align: right;\">\n",
       "      <th></th>\n",
       "      <th>Entity</th>\n",
       "      <th>Year</th>\n",
       "      <th>Aquaculture production (metric tons)</th>\n",
       "      <th>Capture fisheries production (metric tons)</th>\n",
       "      <th>new_year</th>\n",
       "    </tr>\n",
       "  </thead>\n",
       "  <tbody>\n",
       "    <tr>\n",
       "      <th>0</th>\n",
       "      <td>Afghanistan</td>\n",
       "      <td>1960</td>\n",
       "      <td>0.00</td>\n",
       "      <td>200.00</td>\n",
       "      <td>1960-01-01</td>\n",
       "    </tr>\n",
       "    <tr>\n",
       "      <th>1</th>\n",
       "      <td>Afghanistan</td>\n",
       "      <td>1961</td>\n",
       "      <td>0.00</td>\n",
       "      <td>300.00</td>\n",
       "      <td>1961-01-01</td>\n",
       "    </tr>\n",
       "    <tr>\n",
       "      <th>2</th>\n",
       "      <td>Afghanistan</td>\n",
       "      <td>1962</td>\n",
       "      <td>0.00</td>\n",
       "      <td>300.00</td>\n",
       "      <td>1962-01-01</td>\n",
       "    </tr>\n",
       "    <tr>\n",
       "      <th>3</th>\n",
       "      <td>Afghanistan</td>\n",
       "      <td>1963</td>\n",
       "      <td>0.00</td>\n",
       "      <td>300.00</td>\n",
       "      <td>1963-01-01</td>\n",
       "    </tr>\n",
       "    <tr>\n",
       "      <th>4</th>\n",
       "      <td>Afghanistan</td>\n",
       "      <td>1964</td>\n",
       "      <td>0.00</td>\n",
       "      <td>300.00</td>\n",
       "      <td>1964-01-01</td>\n",
       "    </tr>\n",
       "    <tr>\n",
       "      <th>...</th>\n",
       "      <td>...</td>\n",
       "      <td>...</td>\n",
       "      <td>...</td>\n",
       "      <td>...</td>\n",
       "      <td>...</td>\n",
       "    </tr>\n",
       "    <tr>\n",
       "      <th>14255</th>\n",
       "      <td>Zimbabwe</td>\n",
       "      <td>2017</td>\n",
       "      <td>17909.06</td>\n",
       "      <td>31258.35</td>\n",
       "      <td>2017-01-01</td>\n",
       "    </tr>\n",
       "    <tr>\n",
       "      <th>14256</th>\n",
       "      <td>Zimbabwe</td>\n",
       "      <td>2018</td>\n",
       "      <td>18759.33</td>\n",
       "      <td>29306.96</td>\n",
       "      <td>2018-01-01</td>\n",
       "    </tr>\n",
       "    <tr>\n",
       "      <th>14257</th>\n",
       "      <td>Zimbabwe</td>\n",
       "      <td>2019</td>\n",
       "      <td>20356.01</td>\n",
       "      <td>26569.26</td>\n",
       "      <td>2019-01-01</td>\n",
       "    </tr>\n",
       "    <tr>\n",
       "      <th>14258</th>\n",
       "      <td>Zimbabwe</td>\n",
       "      <td>2020</td>\n",
       "      <td>21276.34</td>\n",
       "      <td>26671.55</td>\n",
       "      <td>2020-01-01</td>\n",
       "    </tr>\n",
       "    <tr>\n",
       "      <th>14259</th>\n",
       "      <td>Zimbabwe</td>\n",
       "      <td>2021</td>\n",
       "      <td>5057.82</td>\n",
       "      <td>22734.00</td>\n",
       "      <td>2021-01-01</td>\n",
       "    </tr>\n",
       "  </tbody>\n",
       "</table>\n",
       "<p>14260 rows × 5 columns</p>\n",
       "</div>"
      ],
      "text/plain": [
       "            Entity  Year  Aquaculture production (metric tons)  \\\n",
       "0      Afghanistan  1960                                  0.00   \n",
       "1      Afghanistan  1961                                  0.00   \n",
       "2      Afghanistan  1962                                  0.00   \n",
       "3      Afghanistan  1963                                  0.00   \n",
       "4      Afghanistan  1964                                  0.00   \n",
       "...            ...   ...                                   ...   \n",
       "14255     Zimbabwe  2017                              17909.06   \n",
       "14256     Zimbabwe  2018                              18759.33   \n",
       "14257     Zimbabwe  2019                              20356.01   \n",
       "14258     Zimbabwe  2020                              21276.34   \n",
       "14259     Zimbabwe  2021                               5057.82   \n",
       "\n",
       "       Capture fisheries production (metric tons)   new_year  \n",
       "0                                          200.00 1960-01-01  \n",
       "1                                          300.00 1961-01-01  \n",
       "2                                          300.00 1962-01-01  \n",
       "3                                          300.00 1963-01-01  \n",
       "4                                          300.00 1964-01-01  \n",
       "...                                           ...        ...  \n",
       "14255                                    31258.35 2017-01-01  \n",
       "14256                                    29306.96 2018-01-01  \n",
       "14257                                    26569.26 2019-01-01  \n",
       "14258                                    26671.55 2020-01-01  \n",
       "14259                                    22734.00 2021-01-01  \n",
       "\n",
       "[14260 rows x 5 columns]"
      ]
     },
     "execution_count": 343,
     "metadata": {},
     "output_type": "execute_result"
    }
   ],
   "source": [
    "capture_vs_aqua['new_year'] = pd.to_datetime(capture_vs_aqua['Year'].astype(str), format='%Y')\n",
    "\n",
    "capture_vs_aqua"
   ]
  },
  {
   "cell_type": "code",
   "execution_count": 344,
   "metadata": {},
   "outputs": [
    {
     "name": "stdout",
     "output_type": "stream",
     "text": [
      "<class 'pandas.core.frame.DataFrame'>\n",
      "RangeIndex: 14260 entries, 0 to 14259\n",
      "Data columns (total 5 columns):\n",
      " #   Column                                      Non-Null Count  Dtype         \n",
      "---  ------                                      --------------  -----         \n",
      " 0   Entity                                      14260 non-null  object        \n",
      " 1   Year                                        14260 non-null  int64         \n",
      " 2   Aquaculture production (metric tons)        14260 non-null  float64       \n",
      " 3   Capture fisheries production (metric tons)  14260 non-null  float64       \n",
      " 4   new_year                                    14260 non-null  datetime64[ns]\n",
      "dtypes: datetime64[ns](1), float64(2), int64(1), object(1)\n",
      "memory usage: 557.2+ KB\n"
     ]
    }
   ],
   "source": [
    "capture_vs_aqua.info()"
   ]
  },
  {
   "cell_type": "code",
   "execution_count": 345,
   "metadata": {},
   "outputs": [],
   "source": [
    "capture_vs_aqua.set_index('new_year', inplace=True)"
   ]
  },
  {
   "cell_type": "code",
   "execution_count": 346,
   "metadata": {},
   "outputs": [
    {
     "data": {
      "text/html": [
       "<div>\n",
       "<style scoped>\n",
       "    .dataframe tbody tr th:only-of-type {\n",
       "        vertical-align: middle;\n",
       "    }\n",
       "\n",
       "    .dataframe tbody tr th {\n",
       "        vertical-align: top;\n",
       "    }\n",
       "\n",
       "    .dataframe thead th {\n",
       "        text-align: right;\n",
       "    }\n",
       "</style>\n",
       "<table border=\"1\" class=\"dataframe\">\n",
       "  <thead>\n",
       "    <tr style=\"text-align: right;\">\n",
       "      <th></th>\n",
       "      <th>Entity</th>\n",
       "      <th>Year</th>\n",
       "      <th>Aquaculture production (metric tons)</th>\n",
       "      <th>Capture fisheries production (metric tons)</th>\n",
       "    </tr>\n",
       "    <tr>\n",
       "      <th>new_year</th>\n",
       "      <th></th>\n",
       "      <th></th>\n",
       "      <th></th>\n",
       "      <th></th>\n",
       "    </tr>\n",
       "  </thead>\n",
       "  <tbody>\n",
       "    <tr>\n",
       "      <th>1960-01-01</th>\n",
       "      <td>Afghanistan</td>\n",
       "      <td>1960</td>\n",
       "      <td>0.00</td>\n",
       "      <td>200.00</td>\n",
       "    </tr>\n",
       "    <tr>\n",
       "      <th>1961-01-01</th>\n",
       "      <td>Afghanistan</td>\n",
       "      <td>1961</td>\n",
       "      <td>0.00</td>\n",
       "      <td>300.00</td>\n",
       "    </tr>\n",
       "    <tr>\n",
       "      <th>1962-01-01</th>\n",
       "      <td>Afghanistan</td>\n",
       "      <td>1962</td>\n",
       "      <td>0.00</td>\n",
       "      <td>300.00</td>\n",
       "    </tr>\n",
       "    <tr>\n",
       "      <th>1963-01-01</th>\n",
       "      <td>Afghanistan</td>\n",
       "      <td>1963</td>\n",
       "      <td>0.00</td>\n",
       "      <td>300.00</td>\n",
       "    </tr>\n",
       "    <tr>\n",
       "      <th>1964-01-01</th>\n",
       "      <td>Afghanistan</td>\n",
       "      <td>1964</td>\n",
       "      <td>0.00</td>\n",
       "      <td>300.00</td>\n",
       "    </tr>\n",
       "    <tr>\n",
       "      <th>...</th>\n",
       "      <td>...</td>\n",
       "      <td>...</td>\n",
       "      <td>...</td>\n",
       "      <td>...</td>\n",
       "    </tr>\n",
       "    <tr>\n",
       "      <th>2017-01-01</th>\n",
       "      <td>Zimbabwe</td>\n",
       "      <td>2017</td>\n",
       "      <td>17909.06</td>\n",
       "      <td>31258.35</td>\n",
       "    </tr>\n",
       "    <tr>\n",
       "      <th>2018-01-01</th>\n",
       "      <td>Zimbabwe</td>\n",
       "      <td>2018</td>\n",
       "      <td>18759.33</td>\n",
       "      <td>29306.96</td>\n",
       "    </tr>\n",
       "    <tr>\n",
       "      <th>2019-01-01</th>\n",
       "      <td>Zimbabwe</td>\n",
       "      <td>2019</td>\n",
       "      <td>20356.01</td>\n",
       "      <td>26569.26</td>\n",
       "    </tr>\n",
       "    <tr>\n",
       "      <th>2020-01-01</th>\n",
       "      <td>Zimbabwe</td>\n",
       "      <td>2020</td>\n",
       "      <td>21276.34</td>\n",
       "      <td>26671.55</td>\n",
       "    </tr>\n",
       "    <tr>\n",
       "      <th>2021-01-01</th>\n",
       "      <td>Zimbabwe</td>\n",
       "      <td>2021</td>\n",
       "      <td>5057.82</td>\n",
       "      <td>22734.00</td>\n",
       "    </tr>\n",
       "  </tbody>\n",
       "</table>\n",
       "<p>14260 rows × 4 columns</p>\n",
       "</div>"
      ],
      "text/plain": [
       "                 Entity  Year  Aquaculture production (metric tons)  \\\n",
       "new_year                                                              \n",
       "1960-01-01  Afghanistan  1960                                  0.00   \n",
       "1961-01-01  Afghanistan  1961                                  0.00   \n",
       "1962-01-01  Afghanistan  1962                                  0.00   \n",
       "1963-01-01  Afghanistan  1963                                  0.00   \n",
       "1964-01-01  Afghanistan  1964                                  0.00   \n",
       "...                 ...   ...                                   ...   \n",
       "2017-01-01     Zimbabwe  2017                              17909.06   \n",
       "2018-01-01     Zimbabwe  2018                              18759.33   \n",
       "2019-01-01     Zimbabwe  2019                              20356.01   \n",
       "2020-01-01     Zimbabwe  2020                              21276.34   \n",
       "2021-01-01     Zimbabwe  2021                               5057.82   \n",
       "\n",
       "            Capture fisheries production (metric tons)  \n",
       "new_year                                                \n",
       "1960-01-01                                      200.00  \n",
       "1961-01-01                                      300.00  \n",
       "1962-01-01                                      300.00  \n",
       "1963-01-01                                      300.00  \n",
       "1964-01-01                                      300.00  \n",
       "...                                                ...  \n",
       "2017-01-01                                    31258.35  \n",
       "2018-01-01                                    29306.96  \n",
       "2019-01-01                                    26569.26  \n",
       "2020-01-01                                    26671.55  \n",
       "2021-01-01                                    22734.00  \n",
       "\n",
       "[14260 rows x 4 columns]"
      ]
     },
     "execution_count": 346,
     "metadata": {},
     "output_type": "execute_result"
    }
   ],
   "source": [
    "\n",
    "capture_vs_aqua"
   ]
  },
  {
   "cell_type": "code",
   "execution_count": 347,
   "metadata": {},
   "outputs": [
    {
     "data": {
      "text/html": [
       "<div>\n",
       "<style scoped>\n",
       "    .dataframe tbody tr th:only-of-type {\n",
       "        vertical-align: middle;\n",
       "    }\n",
       "\n",
       "    .dataframe tbody tr th {\n",
       "        vertical-align: top;\n",
       "    }\n",
       "\n",
       "    .dataframe thead th {\n",
       "        text-align: right;\n",
       "    }\n",
       "</style>\n",
       "<table border=\"1\" class=\"dataframe\">\n",
       "  <thead>\n",
       "    <tr style=\"text-align: right;\">\n",
       "      <th></th>\n",
       "      <th>Entity</th>\n",
       "      <th>Aquaculture production (metric tons)</th>\n",
       "      <th>Capture fisheries production (metric tons)</th>\n",
       "    </tr>\n",
       "    <tr>\n",
       "      <th>new_year</th>\n",
       "      <th></th>\n",
       "      <th></th>\n",
       "      <th></th>\n",
       "    </tr>\n",
       "  </thead>\n",
       "  <tbody>\n",
       "    <tr>\n",
       "      <th>1960-01-01</th>\n",
       "      <td>Afghanistan</td>\n",
       "      <td>0.00</td>\n",
       "      <td>200.00</td>\n",
       "    </tr>\n",
       "    <tr>\n",
       "      <th>1961-01-01</th>\n",
       "      <td>Afghanistan</td>\n",
       "      <td>0.00</td>\n",
       "      <td>300.00</td>\n",
       "    </tr>\n",
       "    <tr>\n",
       "      <th>1962-01-01</th>\n",
       "      <td>Afghanistan</td>\n",
       "      <td>0.00</td>\n",
       "      <td>300.00</td>\n",
       "    </tr>\n",
       "    <tr>\n",
       "      <th>1963-01-01</th>\n",
       "      <td>Afghanistan</td>\n",
       "      <td>0.00</td>\n",
       "      <td>300.00</td>\n",
       "    </tr>\n",
       "    <tr>\n",
       "      <th>1964-01-01</th>\n",
       "      <td>Afghanistan</td>\n",
       "      <td>0.00</td>\n",
       "      <td>300.00</td>\n",
       "    </tr>\n",
       "    <tr>\n",
       "      <th>...</th>\n",
       "      <td>...</td>\n",
       "      <td>...</td>\n",
       "      <td>...</td>\n",
       "    </tr>\n",
       "    <tr>\n",
       "      <th>2017-01-01</th>\n",
       "      <td>Zimbabwe</td>\n",
       "      <td>17909.06</td>\n",
       "      <td>31258.35</td>\n",
       "    </tr>\n",
       "    <tr>\n",
       "      <th>2018-01-01</th>\n",
       "      <td>Zimbabwe</td>\n",
       "      <td>18759.33</td>\n",
       "      <td>29306.96</td>\n",
       "    </tr>\n",
       "    <tr>\n",
       "      <th>2019-01-01</th>\n",
       "      <td>Zimbabwe</td>\n",
       "      <td>20356.01</td>\n",
       "      <td>26569.26</td>\n",
       "    </tr>\n",
       "    <tr>\n",
       "      <th>2020-01-01</th>\n",
       "      <td>Zimbabwe</td>\n",
       "      <td>21276.34</td>\n",
       "      <td>26671.55</td>\n",
       "    </tr>\n",
       "    <tr>\n",
       "      <th>2021-01-01</th>\n",
       "      <td>Zimbabwe</td>\n",
       "      <td>5057.82</td>\n",
       "      <td>22734.00</td>\n",
       "    </tr>\n",
       "  </tbody>\n",
       "</table>\n",
       "<p>14260 rows × 3 columns</p>\n",
       "</div>"
      ],
      "text/plain": [
       "                 Entity  Aquaculture production (metric tons)  \\\n",
       "new_year                                                        \n",
       "1960-01-01  Afghanistan                                  0.00   \n",
       "1961-01-01  Afghanistan                                  0.00   \n",
       "1962-01-01  Afghanistan                                  0.00   \n",
       "1963-01-01  Afghanistan                                  0.00   \n",
       "1964-01-01  Afghanistan                                  0.00   \n",
       "...                 ...                                   ...   \n",
       "2017-01-01     Zimbabwe                              17909.06   \n",
       "2018-01-01     Zimbabwe                              18759.33   \n",
       "2019-01-01     Zimbabwe                              20356.01   \n",
       "2020-01-01     Zimbabwe                              21276.34   \n",
       "2021-01-01     Zimbabwe                               5057.82   \n",
       "\n",
       "            Capture fisheries production (metric tons)  \n",
       "new_year                                                \n",
       "1960-01-01                                      200.00  \n",
       "1961-01-01                                      300.00  \n",
       "1962-01-01                                      300.00  \n",
       "1963-01-01                                      300.00  \n",
       "1964-01-01                                      300.00  \n",
       "...                                                ...  \n",
       "2017-01-01                                    31258.35  \n",
       "2018-01-01                                    29306.96  \n",
       "2019-01-01                                    26569.26  \n",
       "2020-01-01                                    26671.55  \n",
       "2021-01-01                                    22734.00  \n",
       "\n",
       "[14260 rows x 3 columns]"
      ]
     },
     "execution_count": 347,
     "metadata": {},
     "output_type": "execute_result"
    }
   ],
   "source": [
    "capture_vs_aqua.drop(['Year'], axis=1, inplace=True)\n",
    "capture_vs_aqua"
   ]
  },
  {
   "cell_type": "code",
   "execution_count": 348,
   "metadata": {},
   "outputs": [
    {
     "data": {
      "text/html": [
       "<div>\n",
       "<style scoped>\n",
       "    .dataframe tbody tr th:only-of-type {\n",
       "        vertical-align: middle;\n",
       "    }\n",
       "\n",
       "    .dataframe tbody tr th {\n",
       "        vertical-align: top;\n",
       "    }\n",
       "\n",
       "    .dataframe thead th {\n",
       "        text-align: right;\n",
       "    }\n",
       "</style>\n",
       "<table border=\"1\" class=\"dataframe\">\n",
       "  <thead>\n",
       "    <tr style=\"text-align: right;\">\n",
       "      <th></th>\n",
       "      <th>Entity</th>\n",
       "      <th>Aquaculture production (metric tons)</th>\n",
       "      <th>Capture fisheries production (metric tons)</th>\n",
       "    </tr>\n",
       "    <tr>\n",
       "      <th>new_year</th>\n",
       "      <th></th>\n",
       "      <th></th>\n",
       "      <th></th>\n",
       "    </tr>\n",
       "  </thead>\n",
       "  <tbody>\n",
       "    <tr>\n",
       "      <th>1960-01-01</th>\n",
       "      <td>Afghanistan</td>\n",
       "      <td>0.0</td>\n",
       "      <td>200.0</td>\n",
       "    </tr>\n",
       "    <tr>\n",
       "      <th>1960-01-01</th>\n",
       "      <td>Bulgaria</td>\n",
       "      <td>900.0</td>\n",
       "      <td>7800.0</td>\n",
       "    </tr>\n",
       "    <tr>\n",
       "      <th>1960-01-01</th>\n",
       "      <td>Armenia</td>\n",
       "      <td>0.0</td>\n",
       "      <td>0.0</td>\n",
       "    </tr>\n",
       "    <tr>\n",
       "      <th>1960-01-01</th>\n",
       "      <td>Hong Kong</td>\n",
       "      <td>600.0</td>\n",
       "      <td>49850.0</td>\n",
       "    </tr>\n",
       "    <tr>\n",
       "      <th>1960-01-01</th>\n",
       "      <td>Somalia</td>\n",
       "      <td>0.0</td>\n",
       "      <td>4500.0</td>\n",
       "    </tr>\n",
       "  </tbody>\n",
       "</table>\n",
       "</div>"
      ],
      "text/plain": [
       "                 Entity  Aquaculture production (metric tons)  \\\n",
       "new_year                                                        \n",
       "1960-01-01  Afghanistan                                   0.0   \n",
       "1960-01-01     Bulgaria                                 900.0   \n",
       "1960-01-01      Armenia                                   0.0   \n",
       "1960-01-01    Hong Kong                                 600.0   \n",
       "1960-01-01      Somalia                                   0.0   \n",
       "\n",
       "            Capture fisheries production (metric tons)  \n",
       "new_year                                                \n",
       "1960-01-01                                       200.0  \n",
       "1960-01-01                                      7800.0  \n",
       "1960-01-01                                         0.0  \n",
       "1960-01-01                                     49850.0  \n",
       "1960-01-01                                      4500.0  "
      ]
     },
     "execution_count": 348,
     "metadata": {},
     "output_type": "execute_result"
    }
   ],
   "source": [
    "new_df = capture_vs_aqua.sort_index()\n",
    "new_df.head()"
   ]
  },
  {
   "cell_type": "code",
   "execution_count": 349,
   "metadata": {},
   "outputs": [
    {
     "name": "stdout",
     "output_type": "stream",
     "text": [
      "<class 'pandas.core.frame.DataFrame'>\n",
      "DatetimeIndex: 14260 entries, 1960-01-01 to 2021-01-01\n",
      "Data columns (total 3 columns):\n",
      " #   Column                                      Non-Null Count  Dtype   \n",
      "---  ------                                      --------------  -----   \n",
      " 0   Entity                                      14260 non-null  category\n",
      " 1   Aquaculture production (metric tons)        14260 non-null  float64 \n",
      " 2   Capture fisheries production (metric tons)  14260 non-null  float64 \n",
      "dtypes: category(1), float64(2)\n",
      "memory usage: 372.0 KB\n"
     ]
    }
   ],
   "source": [
    "new_df['Entity'] = new_df['Entity'].astype('category')\n",
    "new_df.info()"
   ]
  },
  {
   "cell_type": "code",
   "execution_count": 350,
   "metadata": {},
   "outputs": [
    {
     "data": {
      "text/plain": [
       "Entity\n",
       "Afghanistan      62\n",
       "Nauru            62\n",
       "Netherlands      62\n",
       "New Caledonia    62\n",
       "New Zealand      62\n",
       "                 ..\n",
       "Greece           62\n",
       "Greenland        62\n",
       "Grenada          62\n",
       "Guam             62\n",
       "Zimbabwe         62\n",
       "Name: count, Length: 230, dtype: int64"
      ]
     },
     "execution_count": 350,
     "metadata": {},
     "output_type": "execute_result"
    }
   ],
   "source": [
    "new_df['Entity'].value_counts()"
   ]
  },
  {
   "cell_type": "code",
   "execution_count": 351,
   "metadata": {},
   "outputs": [
    {
     "data": {
      "text/html": [
       "<div>\n",
       "<style scoped>\n",
       "    .dataframe tbody tr th:only-of-type {\n",
       "        vertical-align: middle;\n",
       "    }\n",
       "\n",
       "    .dataframe tbody tr th {\n",
       "        vertical-align: top;\n",
       "    }\n",
       "\n",
       "    .dataframe thead th {\n",
       "        text-align: right;\n",
       "    }\n",
       "</style>\n",
       "<table border=\"1\" class=\"dataframe\">\n",
       "  <thead>\n",
       "    <tr style=\"text-align: right;\">\n",
       "      <th></th>\n",
       "      <th>Entity</th>\n",
       "      <th>Aquaculture production (metric tons)</th>\n",
       "      <th>Capture fisheries production (metric tons)</th>\n",
       "    </tr>\n",
       "    <tr>\n",
       "      <th>new_year</th>\n",
       "      <th></th>\n",
       "      <th></th>\n",
       "      <th></th>\n",
       "    </tr>\n",
       "  </thead>\n",
       "  <tbody>\n",
       "    <tr>\n",
       "      <th>1960-01-01</th>\n",
       "      <td>Afghanistan</td>\n",
       "      <td>0.00</td>\n",
       "      <td>200.00</td>\n",
       "    </tr>\n",
       "    <tr>\n",
       "      <th>1960-01-01</th>\n",
       "      <td>Bulgaria</td>\n",
       "      <td>900.00</td>\n",
       "      <td>7800.00</td>\n",
       "    </tr>\n",
       "    <tr>\n",
       "      <th>1960-01-01</th>\n",
       "      <td>Armenia</td>\n",
       "      <td>0.00</td>\n",
       "      <td>0.00</td>\n",
       "    </tr>\n",
       "    <tr>\n",
       "      <th>1960-01-01</th>\n",
       "      <td>Hong Kong</td>\n",
       "      <td>600.00</td>\n",
       "      <td>49850.00</td>\n",
       "    </tr>\n",
       "    <tr>\n",
       "      <th>1960-01-01</th>\n",
       "      <td>Somalia</td>\n",
       "      <td>0.00</td>\n",
       "      <td>4500.00</td>\n",
       "    </tr>\n",
       "    <tr>\n",
       "      <th>...</th>\n",
       "      <td>...</td>\n",
       "      <td>...</td>\n",
       "      <td>...</td>\n",
       "    </tr>\n",
       "    <tr>\n",
       "      <th>2021-01-01</th>\n",
       "      <td>Nauru</td>\n",
       "      <td>0.50</td>\n",
       "      <td>120409.00</td>\n",
       "    </tr>\n",
       "    <tr>\n",
       "      <th>2021-01-01</th>\n",
       "      <td>Namibia</td>\n",
       "      <td>321.00</td>\n",
       "      <td>410849.47</td>\n",
       "    </tr>\n",
       "    <tr>\n",
       "      <th>2021-01-01</th>\n",
       "      <td>Myanmar</td>\n",
       "      <td>929216.90</td>\n",
       "      <td>1665740.00</td>\n",
       "    </tr>\n",
       "    <tr>\n",
       "      <th>2021-01-01</th>\n",
       "      <td>Puerto Rico</td>\n",
       "      <td>18.00</td>\n",
       "      <td>1580.00</td>\n",
       "    </tr>\n",
       "    <tr>\n",
       "      <th>2021-01-01</th>\n",
       "      <td>Zimbabwe</td>\n",
       "      <td>5057.82</td>\n",
       "      <td>22734.00</td>\n",
       "    </tr>\n",
       "  </tbody>\n",
       "</table>\n",
       "<p>14260 rows × 3 columns</p>\n",
       "</div>"
      ],
      "text/plain": [
       "                 Entity  Aquaculture production (metric tons)  \\\n",
       "new_year                                                        \n",
       "1960-01-01  Afghanistan                                  0.00   \n",
       "1960-01-01     Bulgaria                                900.00   \n",
       "1960-01-01      Armenia                                  0.00   \n",
       "1960-01-01    Hong Kong                                600.00   \n",
       "1960-01-01      Somalia                                  0.00   \n",
       "...                 ...                                   ...   \n",
       "2021-01-01        Nauru                                  0.50   \n",
       "2021-01-01      Namibia                                321.00   \n",
       "2021-01-01      Myanmar                             929216.90   \n",
       "2021-01-01  Puerto Rico                                 18.00   \n",
       "2021-01-01     Zimbabwe                               5057.82   \n",
       "\n",
       "            Capture fisheries production (metric tons)  \n",
       "new_year                                                \n",
       "1960-01-01                                      200.00  \n",
       "1960-01-01                                     7800.00  \n",
       "1960-01-01                                        0.00  \n",
       "1960-01-01                                    49850.00  \n",
       "1960-01-01                                     4500.00  \n",
       "...                                                ...  \n",
       "2021-01-01                                   120409.00  \n",
       "2021-01-01                                   410849.47  \n",
       "2021-01-01                                  1665740.00  \n",
       "2021-01-01                                     1580.00  \n",
       "2021-01-01                                    22734.00  \n",
       "\n",
       "[14260 rows x 3 columns]"
      ]
     },
     "execution_count": 351,
     "metadata": {},
     "output_type": "execute_result"
    }
   ],
   "source": [
    "new_df"
   ]
  },
  {
   "cell_type": "code",
   "execution_count": 352,
   "metadata": {},
   "outputs": [
    {
     "name": "stderr",
     "output_type": "stream",
     "text": [
      "/var/folders/1t/2c88cpvx50s6j4zn29nz2y580000gn/T/ipykernel_4799/4050142477.py:1: FutureWarning: The default of observed=False is deprecated and will be changed to True in a future version of pandas. Pass observed=False to retain current behavior or observed=True to adopt the future default and silence this warning.\n",
      "  g = new_df.groupby(['Entity'])\n"
     ]
    },
    {
     "data": {
      "text/html": [
       "<div>\n",
       "<style scoped>\n",
       "    .dataframe tbody tr th:only-of-type {\n",
       "        vertical-align: middle;\n",
       "    }\n",
       "\n",
       "    .dataframe tbody tr th {\n",
       "        vertical-align: top;\n",
       "    }\n",
       "\n",
       "    .dataframe thead th {\n",
       "        text-align: right;\n",
       "    }\n",
       "</style>\n",
       "<table border=\"1\" class=\"dataframe\">\n",
       "  <thead>\n",
       "    <tr style=\"text-align: right;\">\n",
       "      <th></th>\n",
       "      <th>Entity</th>\n",
       "      <th>Aquaculture production (metric tons)</th>\n",
       "      <th>Capture fisheries production (metric tons)</th>\n",
       "    </tr>\n",
       "    <tr>\n",
       "      <th>new_year</th>\n",
       "      <th></th>\n",
       "      <th></th>\n",
       "      <th></th>\n",
       "    </tr>\n",
       "  </thead>\n",
       "  <tbody>\n",
       "    <tr>\n",
       "      <th>1960-01-01</th>\n",
       "      <td>Afghanistan</td>\n",
       "      <td>0.0</td>\n",
       "      <td>200.0</td>\n",
       "    </tr>\n",
       "    <tr>\n",
       "      <th>1960-01-01</th>\n",
       "      <td>Bulgaria</td>\n",
       "      <td>900.0</td>\n",
       "      <td>7800.0</td>\n",
       "    </tr>\n",
       "    <tr>\n",
       "      <th>1960-01-01</th>\n",
       "      <td>Armenia</td>\n",
       "      <td>0.0</td>\n",
       "      <td>0.0</td>\n",
       "    </tr>\n",
       "    <tr>\n",
       "      <th>1960-01-01</th>\n",
       "      <td>Hong Kong</td>\n",
       "      <td>600.0</td>\n",
       "      <td>49850.0</td>\n",
       "    </tr>\n",
       "    <tr>\n",
       "      <th>1960-01-01</th>\n",
       "      <td>Somalia</td>\n",
       "      <td>0.0</td>\n",
       "      <td>4500.0</td>\n",
       "    </tr>\n",
       "    <tr>\n",
       "      <th>...</th>\n",
       "      <td>...</td>\n",
       "      <td>...</td>\n",
       "      <td>...</td>\n",
       "    </tr>\n",
       "    <tr>\n",
       "      <th>1964-01-01</th>\n",
       "      <td>Niger</td>\n",
       "      <td>0.0</td>\n",
       "      <td>6300.0</td>\n",
       "    </tr>\n",
       "    <tr>\n",
       "      <th>1964-01-01</th>\n",
       "      <td>Aruba</td>\n",
       "      <td>0.0</td>\n",
       "      <td>300.0</td>\n",
       "    </tr>\n",
       "    <tr>\n",
       "      <th>1964-01-01</th>\n",
       "      <td>Serbia</td>\n",
       "      <td>0.0</td>\n",
       "      <td>0.0</td>\n",
       "    </tr>\n",
       "    <tr>\n",
       "      <th>1964-01-01</th>\n",
       "      <td>Sao Tome and Principe</td>\n",
       "      <td>0.0</td>\n",
       "      <td>800.0</td>\n",
       "    </tr>\n",
       "    <tr>\n",
       "      <th>1964-01-01</th>\n",
       "      <td>Singapore</td>\n",
       "      <td>0.0</td>\n",
       "      <td>10400.0</td>\n",
       "    </tr>\n",
       "  </tbody>\n",
       "</table>\n",
       "<p>1150 rows × 3 columns</p>\n",
       "</div>"
      ],
      "text/plain": [
       "                           Entity  Aquaculture production (metric tons)  \\\n",
       "new_year                                                                  \n",
       "1960-01-01            Afghanistan                                   0.0   \n",
       "1960-01-01               Bulgaria                                 900.0   \n",
       "1960-01-01                Armenia                                   0.0   \n",
       "1960-01-01              Hong Kong                                 600.0   \n",
       "1960-01-01                Somalia                                   0.0   \n",
       "...                           ...                                   ...   \n",
       "1964-01-01                  Niger                                   0.0   \n",
       "1964-01-01                  Aruba                                   0.0   \n",
       "1964-01-01                 Serbia                                   0.0   \n",
       "1964-01-01  Sao Tome and Principe                                   0.0   \n",
       "1964-01-01              Singapore                                   0.0   \n",
       "\n",
       "            Capture fisheries production (metric tons)  \n",
       "new_year                                                \n",
       "1960-01-01                                       200.0  \n",
       "1960-01-01                                      7800.0  \n",
       "1960-01-01                                         0.0  \n",
       "1960-01-01                                     49850.0  \n",
       "1960-01-01                                      4500.0  \n",
       "...                                                ...  \n",
       "1964-01-01                                      6300.0  \n",
       "1964-01-01                                       300.0  \n",
       "1964-01-01                                         0.0  \n",
       "1964-01-01                                       800.0  \n",
       "1964-01-01                                     10400.0  \n",
       "\n",
       "[1150 rows x 3 columns]"
      ]
     },
     "execution_count": 352,
     "metadata": {},
     "output_type": "execute_result"
    }
   ],
   "source": [
    "g = new_df.groupby(['Entity'])\n",
    "g.head()"
   ]
  },
  {
   "cell_type": "code",
   "execution_count": 353,
   "metadata": {},
   "outputs": [
    {
     "ename": "SyntaxError",
     "evalue": "incomplete input (1462658625.py, line 4)",
     "output_type": "error",
     "traceback": [
      "\u001b[0;36m  Cell \u001b[0;32mIn[353], line 4\u001b[0;36m\u001b[0m\n\u001b[0;31m    print(group.head(\u001b[0m\n\u001b[0m                     ^\u001b[0m\n\u001b[0;31mSyntaxError\u001b[0m\u001b[0;31m:\u001b[0m incomplete input\n"
     ]
    }
   ],
   "source": [
    "for key, group in g :\n",
    "    print('+key', key)\n",
    "    print('+number:', len(group))\n",
    "    print(group.head("
   ]
  },
  {
   "cell_type": "code",
   "execution_count": null,
   "metadata": {},
   "outputs": [
    {
     "data": {
      "text/html": [
       "<div>\n",
       "<style scoped>\n",
       "    .dataframe tbody tr th:only-of-type {\n",
       "        vertical-align: middle;\n",
       "    }\n",
       "\n",
       "    .dataframe tbody tr th {\n",
       "        vertical-align: top;\n",
       "    }\n",
       "\n",
       "    .dataframe thead th {\n",
       "        text-align: right;\n",
       "    }\n",
       "</style>\n",
       "<table border=\"1\" class=\"dataframe\">\n",
       "  <thead>\n",
       "    <tr style=\"text-align: right;\">\n",
       "      <th></th>\n",
       "      <th>Aquaculture production (metric tons)</th>\n",
       "      <th>Capture fisheries production (metric tons)</th>\n",
       "    </tr>\n",
       "    <tr>\n",
       "      <th>Entity</th>\n",
       "      <th></th>\n",
       "      <th></th>\n",
       "    </tr>\n",
       "  </thead>\n",
       "  <tbody>\n",
       "    <tr>\n",
       "      <th>Afghanistan</th>\n",
       "      <td>85730.00</td>\n",
       "      <td>58450.00</td>\n",
       "    </tr>\n",
       "    <tr>\n",
       "      <th>Albania</th>\n",
       "      <td>98404.00</td>\n",
       "      <td>386815.19</td>\n",
       "    </tr>\n",
       "    <tr>\n",
       "      <th>Algeria</th>\n",
       "      <td>51900.66</td>\n",
       "      <td>4738883.69</td>\n",
       "    </tr>\n",
       "    <tr>\n",
       "      <th>American Samoa</th>\n",
       "      <td>410.00</td>\n",
       "      <td>83088.25</td>\n",
       "    </tr>\n",
       "    <tr>\n",
       "      <th>Andorra</th>\n",
       "      <td>0.00</td>\n",
       "      <td>0.00</td>\n",
       "    </tr>\n",
       "  </tbody>\n",
       "</table>\n",
       "</div>"
      ],
      "text/plain": [
       "                Aquaculture production (metric tons)  \\\n",
       "Entity                                                 \n",
       "Afghanistan                                 85730.00   \n",
       "Albania                                     98404.00   \n",
       "Algeria                                     51900.66   \n",
       "American Samoa                                410.00   \n",
       "Andorra                                         0.00   \n",
       "\n",
       "                Capture fisheries production (metric tons)  \n",
       "Entity                                                      \n",
       "Afghanistan                                       58450.00  \n",
       "Albania                                          386815.19  \n",
       "Algeria                                         4738883.69  \n",
       "American Samoa                                    83088.25  \n",
       "Andorra                                               0.00  "
      ]
     },
     "execution_count": 175,
     "metadata": {},
     "output_type": "execute_result"
    }
   ],
   "source": [
    "world_total = g.sum(numeric_only=True)\n",
    "world_total.head()"
   ]
  },
  {
   "cell_type": "code",
   "execution_count": null,
   "metadata": {},
   "outputs": [
    {
     "data": {
      "image/png": "[encoded data removed]",
      "text/plain": [
       "<Figure size 2000x1000 with 1 Axes>"
      ]
     },
     "metadata": {},
     "output_type": "display_data"
    }
   ],
   "source": [
    "plt.style.use('ggplot')\n",
    "world_total.plot(kind='area', alpha=0.5, figsize=(20, 10), stacked=True)\n",
    "\n",
    "plt.legend()\n",
    "plt.show()\n"
   ]
  },
  {
   "cell_type": "code",
   "execution_count": null,
   "metadata": {},
   "outputs": [
    {
     "name": "stdout",
     "output_type": "stream",
     "text": [
      "Entity\n",
      "Afghanistan      62\n",
      "Nauru            62\n",
      "Netherlands      62\n",
      "New Caledonia    62\n",
      "New Zealand      62\n",
      "                 ..\n",
      "Greece           62\n",
      "Greenland        62\n",
      "Grenada          62\n",
      "Guam             62\n",
      "Zimbabwe         62\n",
      "Name: count, Length: 230, dtype: int64\n",
      "Data Type => <class 'pandas.core.series.Series'>\n"
     ]
    }
   ],
   "source": [
    "country = new_df[\"Entity\"].value_counts()\n",
    "print(country)\n",
    "print('Data Type =>', type(country))"
   ]
  },
  {
   "cell_type": "code",
   "execution_count": null,
   "metadata": {},
   "outputs": [
    {
     "data": {
      "text/html": [
       "<div>\n",
       "<style scoped>\n",
       "    .dataframe tbody tr th:only-of-type {\n",
       "        vertical-align: middle;\n",
       "    }\n",
       "\n",
       "    .dataframe tbody tr th {\n",
       "        vertical-align: top;\n",
       "    }\n",
       "\n",
       "    .dataframe thead th {\n",
       "        text-align: right;\n",
       "    }\n",
       "</style>\n",
       "<table border=\"1\" class=\"dataframe\">\n",
       "  <thead>\n",
       "    <tr style=\"text-align: right;\">\n",
       "      <th></th>\n",
       "      <th>Entity</th>\n",
       "      <th>Aquaculture production (metric tons)</th>\n",
       "      <th>Capture fisheries production (metric tons)</th>\n",
       "    </tr>\n",
       "    <tr>\n",
       "      <th>new_year</th>\n",
       "      <th></th>\n",
       "      <th></th>\n",
       "      <th></th>\n",
       "    </tr>\n",
       "  </thead>\n",
       "  <tbody>\n",
       "    <tr>\n",
       "      <th>1960-01-01</th>\n",
       "      <td>South Korea</td>\n",
       "      <td>18637.0</td>\n",
       "      <td>338564.0</td>\n",
       "    </tr>\n",
       "    <tr>\n",
       "      <th>1961-01-01</th>\n",
       "      <td>South Korea</td>\n",
       "      <td>17404.0</td>\n",
       "      <td>407113.0</td>\n",
       "    </tr>\n",
       "    <tr>\n",
       "      <th>1962-01-01</th>\n",
       "      <td>South Korea</td>\n",
       "      <td>23901.0</td>\n",
       "      <td>445299.0</td>\n",
       "    </tr>\n",
       "    <tr>\n",
       "      <th>1963-01-01</th>\n",
       "      <td>South Korea</td>\n",
       "      <td>80479.0</td>\n",
       "      <td>451522.0</td>\n",
       "    </tr>\n",
       "    <tr>\n",
       "      <th>1964-01-01</th>\n",
       "      <td>South Korea</td>\n",
       "      <td>72557.0</td>\n",
       "      <td>527254.0</td>\n",
       "    </tr>\n",
       "  </tbody>\n",
       "</table>\n",
       "</div>"
      ],
      "text/plain": [
       "                 Entity  Aquaculture production (metric tons)  \\\n",
       "new_year                                                        \n",
       "1960-01-01  South Korea                               18637.0   \n",
       "1961-01-01  South Korea                               17404.0   \n",
       "1962-01-01  South Korea                               23901.0   \n",
       "1963-01-01  South Korea                               80479.0   \n",
       "1964-01-01  South Korea                               72557.0   \n",
       "\n",
       "            Capture fisheries production (metric tons)  \n",
       "new_year                                                \n",
       "1960-01-01                                    338564.0  \n",
       "1961-01-01                                    407113.0  \n",
       "1962-01-01                                    445299.0  \n",
       "1963-01-01                                    451522.0  \n",
       "1964-01-01                                    527254.0  "
      ]
     },
     "execution_count": 311,
     "metadata": {},
     "output_type": "execute_result"
    }
   ],
   "source": [
    "korea = new_df.loc[new_df['Entity'] == 'South Korea']\n",
    "china = new_df.loc[new_df['Entity'] == 'China']\n",
    "Afghanistan = new_df.loc[new_df['Entity'] == 'Afghanistan']\n",
    "\n",
    "korea.head()\n"
   ]
  },
  {
   "cell_type": "code",
   "execution_count": null,
   "metadata": {},
   "outputs": [
    {
     "data": {
      "text/html": [
       "<div>\n",
       "<style scoped>\n",
       "    .dataframe tbody tr th:only-of-type {\n",
       "        vertical-align: middle;\n",
       "    }\n",
       "\n",
       "    .dataframe tbody tr th {\n",
       "        vertical-align: top;\n",
       "    }\n",
       "\n",
       "    .dataframe thead th {\n",
       "        text-align: right;\n",
       "    }\n",
       "</style>\n",
       "<table border=\"1\" class=\"dataframe\">\n",
       "  <thead>\n",
       "    <tr style=\"text-align: right;\">\n",
       "      <th></th>\n",
       "      <th>Entity</th>\n",
       "      <th>Aquaculture production (metric tons)</th>\n",
       "      <th>Capture fisheries production (metric tons)</th>\n",
       "    </tr>\n",
       "    <tr>\n",
       "      <th>new_year</th>\n",
       "      <th></th>\n",
       "      <th></th>\n",
       "      <th></th>\n",
       "    </tr>\n",
       "  </thead>\n",
       "  <tbody>\n",
       "    <tr>\n",
       "      <th>1960-01-01</th>\n",
       "      <td>China</td>\n",
       "      <td>958506.0</td>\n",
       "      <td>2215094.0</td>\n",
       "    </tr>\n",
       "    <tr>\n",
       "      <th>1961-01-01</th>\n",
       "      <td>China</td>\n",
       "      <td>777762.0</td>\n",
       "      <td>2395838.0</td>\n",
       "    </tr>\n",
       "    <tr>\n",
       "      <th>1962-01-01</th>\n",
       "      <td>China</td>\n",
       "      <td>741121.0</td>\n",
       "      <td>2539279.0</td>\n",
       "    </tr>\n",
       "    <tr>\n",
       "      <th>1963-01-01</th>\n",
       "      <td>China</td>\n",
       "      <td>856931.0</td>\n",
       "      <td>2491069.0</td>\n",
       "    </tr>\n",
       "    <tr>\n",
       "      <th>1964-01-01</th>\n",
       "      <td>China</td>\n",
       "      <td>1017083.0</td>\n",
       "      <td>2466117.0</td>\n",
       "    </tr>\n",
       "  </tbody>\n",
       "</table>\n",
       "</div>"
      ],
      "text/plain": [
       "           Entity  Aquaculture production (metric tons)  \\\n",
       "new_year                                                  \n",
       "1960-01-01  China                              958506.0   \n",
       "1961-01-01  China                              777762.0   \n",
       "1962-01-01  China                              741121.0   \n",
       "1963-01-01  China                              856931.0   \n",
       "1964-01-01  China                             1017083.0   \n",
       "\n",
       "            Capture fisheries production (metric tons)  \n",
       "new_year                                                \n",
       "1960-01-01                                   2215094.0  \n",
       "1961-01-01                                   2395838.0  \n",
       "1962-01-01                                   2539279.0  \n",
       "1963-01-01                                   2491069.0  \n",
       "1964-01-01                                   2466117.0  "
      ]
     },
     "execution_count": 267,
     "metadata": {},
     "output_type": "execute_result"
    }
   ],
   "source": [
    "china.head()\n"
   ]
  },
  {
   "cell_type": "code",
   "execution_count": null,
   "metadata": {},
   "outputs": [
    {
     "data": {
      "text/html": [
       "<div>\n",
       "<style scoped>\n",
       "    .dataframe tbody tr th:only-of-type {\n",
       "        vertical-align: middle;\n",
       "    }\n",
       "\n",
       "    .dataframe tbody tr th {\n",
       "        vertical-align: top;\n",
       "    }\n",
       "\n",
       "    .dataframe thead th {\n",
       "        text-align: right;\n",
       "    }\n",
       "</style>\n",
       "<table border=\"1\" class=\"dataframe\">\n",
       "  <thead>\n",
       "    <tr style=\"text-align: right;\">\n",
       "      <th></th>\n",
       "      <th>Entity</th>\n",
       "      <th>Aquaculture production (metric tons)</th>\n",
       "      <th>Capture fisheries production (metric tons)</th>\n",
       "    </tr>\n",
       "    <tr>\n",
       "      <th>new_year</th>\n",
       "      <th></th>\n",
       "      <th></th>\n",
       "      <th></th>\n",
       "    </tr>\n",
       "  </thead>\n",
       "  <tbody>\n",
       "    <tr>\n",
       "      <th>1960-01-01</th>\n",
       "      <td>Afghanistan</td>\n",
       "      <td>0.0</td>\n",
       "      <td>200.0</td>\n",
       "    </tr>\n",
       "    <tr>\n",
       "      <th>1961-01-01</th>\n",
       "      <td>Afghanistan</td>\n",
       "      <td>0.0</td>\n",
       "      <td>300.0</td>\n",
       "    </tr>\n",
       "    <tr>\n",
       "      <th>1962-01-01</th>\n",
       "      <td>Afghanistan</td>\n",
       "      <td>0.0</td>\n",
       "      <td>300.0</td>\n",
       "    </tr>\n",
       "    <tr>\n",
       "      <th>1963-01-01</th>\n",
       "      <td>Afghanistan</td>\n",
       "      <td>0.0</td>\n",
       "      <td>300.0</td>\n",
       "    </tr>\n",
       "    <tr>\n",
       "      <th>1964-01-01</th>\n",
       "      <td>Afghanistan</td>\n",
       "      <td>0.0</td>\n",
       "      <td>300.0</td>\n",
       "    </tr>\n",
       "  </tbody>\n",
       "</table>\n",
       "</div>"
      ],
      "text/plain": [
       "                 Entity  Aquaculture production (metric tons)  \\\n",
       "new_year                                                        \n",
       "1960-01-01  Afghanistan                                   0.0   \n",
       "1961-01-01  Afghanistan                                   0.0   \n",
       "1962-01-01  Afghanistan                                   0.0   \n",
       "1963-01-01  Afghanistan                                   0.0   \n",
       "1964-01-01  Afghanistan                                   0.0   \n",
       "\n",
       "            Capture fisheries production (metric tons)  \n",
       "new_year                                                \n",
       "1960-01-01                                       200.0  \n",
       "1961-01-01                                       300.0  \n",
       "1962-01-01                                       300.0  \n",
       "1963-01-01                                       300.0  \n",
       "1964-01-01                                       300.0  "
      ]
     },
     "execution_count": 268,
     "metadata": {},
     "output_type": "execute_result"
    }
   ],
   "source": [
    "Afghanistan.head()"
   ]
  },
  {
   "cell_type": "code",
   "execution_count": 354,
   "metadata": {},
   "outputs": [],
   "source": [
    "# specify the x and y axis \n",
    "korea_y = korea[['Aquaculture production (metric tons)', 'Capture fisheries production (metric tons)']]\n",
    "korea_x = korea.index\n",
    "\n",
    "china_y = china[['Aquaculture production (metric tons)', 'Capture fisheries production (metric tons)']]\n",
    "china_x = china.index\n",
    "\n",
    "Afghanistan_y = Afghanistan[['Aquaculture production (metric tons)', 'Capture fisheries production (metric tons)']]\n",
    "Afghanistan_x = Afghanistan.index"
   ]
  },
  {
   "cell_type": "code",
   "execution_count": 358,
   "metadata": {},
   "outputs": [
    {
     "data": {
      "image/png": "[encoded data removed]",
      "text/plain": [
       "<Figure size 1500x500 with 3 Axes>"
      ]
     },
     "metadata": {},
     "output_type": "display_data"
    }
   ],
   "source": [
    "# draw the graph\n",
    "# the subplots is 1 by 3 it mean that there are 1 row and 3 column of the plot to show\n",
    "fig, axs = plt.subplots(1, 3, figsize=(15, 5))\n",
    "\n",
    "axs[0].plot(korea_x, korea_y)\n",
    "axs[1].plot(china_x, china_y)\n",
    "axs[2].plot(Afghanistan_x, Afghanistan_y)\n",
    "\n",
    "\n",
    "plt.show()\n",
    "# specify the x and y axis"
   ]
  },
  {
   "cell_type": "code",
   "execution_count": null,
   "metadata": {},
   "outputs": [],
   "source": []
  }
 ],
 "metadata": {
  "kernelspec": {
   "display_name": "base",
   "language": "python",
   "name": "python3"
  },
  "language_info": {
   "codemirror_mode": {
    "name": "ipython",
    "version": 3
   },
   "file_extension": ".py",
   "mimetype": "text/x-python",
   "name": "python",
   "nbconvert_exporter": "python",
   "pygments_lexer": "ipython3",
   "version": "3.11.5"
  }
 },
 "nbformat": 4,
 "nbformat_minor": 2
}
